{
 "cells": [
  {
   "cell_type": "code",
   "execution_count": 1,
   "metadata": {},
   "outputs": [],
   "source": [
    "import pandas as pd\n",
    "import numpy as np\n",
    "import matplotlib.pyplot as plt\n",
    "%matplotlib inline\n",
    "\n",
    "from sklearn.model_selection import train_test_split\n",
    "\n",
    "import torch\n",
    "import torch.nn as nn\n",
    "import torch.nn.functional as F"
   ]
  },
  {
   "cell_type": "markdown",
   "metadata": {},
   "source": [
    "# This notebook seeks to use all OPV processing conditions and morphological descriptors to predict device performance. \n",
    "\n",
    "## This third NN is an ensemble of two others, with an aggregation of their results. will further incorporate morphological information. The morphological descriptors (by domain) and/or the actual label maps will provide local information for the bulk-averaged device metrics.\n",
    "\n",
    "### Inputs:\n",
    "- DataFrame containing device processing conditions and their subsequent performance. This will similarly only include good devices\n",
    "\n",
    "- DataFrame containing morphology descriptors by domain within the active-layer\n",
    "\n",
    "- Semantic and Instance segmentation labels produced by the m2py framework\n",
    "\n",
    "### Outputs:\n",
    "- Tensor of predicted performance for given processing conditions"
   ]
  },
  {
   "cell_type": "markdown",
   "metadata": {},
   "source": [
    "# Take in device data as a pd.DataFrame for embedding"
   ]
  },
  {
   "cell_type": "code",
   "execution_count": 2,
   "metadata": {},
   "outputs": [
    {
     "name": "stdout",
     "output_type": "stream",
     "text": [
      "(108, 20)\n"
     ]
    },
    {
     "data": {
      "text/html": [
       "<div>\n",
       "<style scoped>\n",
       "    .dataframe tbody tr th:only-of-type {\n",
       "        vertical-align: middle;\n",
       "    }\n",
       "\n",
       "    .dataframe tbody tr th {\n",
       "        vertical-align: top;\n",
       "    }\n",
       "\n",
       "    .dataframe thead th {\n",
       "        text-align: right;\n",
       "    }\n",
       "</style>\n",
       "<table border=\"1\" class=\"dataframe\">\n",
       "  <thead>\n",
       "    <tr style=\"text-align: right;\">\n",
       "      <th></th>\n",
       "      <th>Unnamed: 0</th>\n",
       "      <th>Anneal_time</th>\n",
       "      <th>Anneal_temp</th>\n",
       "      <th>Substrate</th>\n",
       "      <th>Device</th>\n",
       "      <th>MajorAL_avg</th>\n",
       "      <th>MajorAL_stdev</th>\n",
       "      <th>MinorAL_avg</th>\n",
       "      <th>MinorAL_stdev</th>\n",
       "      <th>Ecc_avg</th>\n",
       "      <th>Ecc_stdev</th>\n",
       "      <th>Orient_avg</th>\n",
       "      <th>Orient_stdev</th>\n",
       "      <th>Perim_avg</th>\n",
       "      <th>Perim_stdev</th>\n",
       "      <th>GMM_label</th>\n",
       "      <th>PCE</th>\n",
       "      <th>VocL</th>\n",
       "      <th>Jsc</th>\n",
       "      <th>FF</th>\n",
       "    </tr>\n",
       "  </thead>\n",
       "  <tbody>\n",
       "    <tr>\n",
       "      <td>0</td>\n",
       "      <td>0</td>\n",
       "      <td>15</td>\n",
       "      <td>100</td>\n",
       "      <td>4</td>\n",
       "      <td>2</td>\n",
       "      <td>17.194652</td>\n",
       "      <td>29.172066</td>\n",
       "      <td>8.554721</td>\n",
       "      <td>14.246681</td>\n",
       "      <td>0.820518</td>\n",
       "      <td>0.142370</td>\n",
       "      <td>-0.050137</td>\n",
       "      <td>1.067225</td>\n",
       "      <td>97.003245</td>\n",
       "      <td>352.677591</td>\n",
       "      <td>1</td>\n",
       "      <td>2.311387</td>\n",
       "      <td>0.577792</td>\n",
       "      <td>6.963861</td>\n",
       "      <td>57.44484</td>\n",
       "    </tr>\n",
       "    <tr>\n",
       "      <td>1</td>\n",
       "      <td>1</td>\n",
       "      <td>15</td>\n",
       "      <td>100</td>\n",
       "      <td>4</td>\n",
       "      <td>4</td>\n",
       "      <td>13.709728</td>\n",
       "      <td>14.635628</td>\n",
       "      <td>6.938374</td>\n",
       "      <td>7.985216</td>\n",
       "      <td>0.824877</td>\n",
       "      <td>0.138410</td>\n",
       "      <td>-0.205623</td>\n",
       "      <td>1.075388</td>\n",
       "      <td>48.559552</td>\n",
       "      <td>98.492589</td>\n",
       "      <td>1</td>\n",
       "      <td>1.763230</td>\n",
       "      <td>0.522596</td>\n",
       "      <td>7.047848</td>\n",
       "      <td>47.87256</td>\n",
       "    </tr>\n",
       "    <tr>\n",
       "      <td>2</td>\n",
       "      <td>2</td>\n",
       "      <td>15</td>\n",
       "      <td>100</td>\n",
       "      <td>4</td>\n",
       "      <td>7</td>\n",
       "      <td>18.211098</td>\n",
       "      <td>21.013541</td>\n",
       "      <td>8.857453</td>\n",
       "      <td>10.356933</td>\n",
       "      <td>0.826205</td>\n",
       "      <td>0.148190</td>\n",
       "      <td>-0.414390</td>\n",
       "      <td>1.047842</td>\n",
       "      <td>75.736366</td>\n",
       "      <td>151.456627</td>\n",
       "      <td>1</td>\n",
       "      <td>2.394418</td>\n",
       "      <td>0.575790</td>\n",
       "      <td>6.939877</td>\n",
       "      <td>59.92170</td>\n",
       "    </tr>\n",
       "    <tr>\n",
       "      <td>3</td>\n",
       "      <td>3</td>\n",
       "      <td>30</td>\n",
       "      <td>100</td>\n",
       "      <td>7</td>\n",
       "      <td>2</td>\n",
       "      <td>19.640309</td>\n",
       "      <td>46.935628</td>\n",
       "      <td>9.781374</td>\n",
       "      <td>26.994708</td>\n",
       "      <td>0.857443</td>\n",
       "      <td>0.105577</td>\n",
       "      <td>-0.331902</td>\n",
       "      <td>0.940640</td>\n",
       "      <td>236.482362</td>\n",
       "      <td>1306.085256</td>\n",
       "      <td>1</td>\n",
       "      <td>2.628197</td>\n",
       "      <td>0.569525</td>\n",
       "      <td>7.301575</td>\n",
       "      <td>63.20169</td>\n",
       "    </tr>\n",
       "    <tr>\n",
       "      <td>4</td>\n",
       "      <td>4</td>\n",
       "      <td>30</td>\n",
       "      <td>100</td>\n",
       "      <td>7</td>\n",
       "      <td>4</td>\n",
       "      <td>20.647291</td>\n",
       "      <td>35.791550</td>\n",
       "      <td>8.412561</td>\n",
       "      <td>11.216702</td>\n",
       "      <td>0.833485</td>\n",
       "      <td>0.136928</td>\n",
       "      <td>-0.454930</td>\n",
       "      <td>0.862964</td>\n",
       "      <td>96.093361</td>\n",
       "      <td>315.148913</td>\n",
       "      <td>1</td>\n",
       "      <td>2.710602</td>\n",
       "      <td>0.568631</td>\n",
       "      <td>7.328048</td>\n",
       "      <td>65.04993</td>\n",
       "    </tr>\n",
       "  </tbody>\n",
       "</table>\n",
       "</div>"
      ],
      "text/plain": [
       "   Unnamed: 0  Anneal_time  Anneal_temp  Substrate  Device  MajorAL_avg  \\\n",
       "0           0           15          100          4       2    17.194652   \n",
       "1           1           15          100          4       4    13.709728   \n",
       "2           2           15          100          4       7    18.211098   \n",
       "3           3           30          100          7       2    19.640309   \n",
       "4           4           30          100          7       4    20.647291   \n",
       "\n",
       "   MajorAL_stdev  MinorAL_avg  MinorAL_stdev   Ecc_avg  Ecc_stdev  Orient_avg  \\\n",
       "0      29.172066     8.554721      14.246681  0.820518   0.142370   -0.050137   \n",
       "1      14.635628     6.938374       7.985216  0.824877   0.138410   -0.205623   \n",
       "2      21.013541     8.857453      10.356933  0.826205   0.148190   -0.414390   \n",
       "3      46.935628     9.781374      26.994708  0.857443   0.105577   -0.331902   \n",
       "4      35.791550     8.412561      11.216702  0.833485   0.136928   -0.454930   \n",
       "\n",
       "   Orient_stdev   Perim_avg  Perim_stdev  GMM_label       PCE      VocL  \\\n",
       "0      1.067225   97.003245   352.677591          1  2.311387  0.577792   \n",
       "1      1.075388   48.559552    98.492589          1  1.763230  0.522596   \n",
       "2      1.047842   75.736366   151.456627          1  2.394418  0.575790   \n",
       "3      0.940640  236.482362  1306.085256          1  2.628197  0.569525   \n",
       "4      0.862964   96.093361   315.148913          1  2.710602  0.568631   \n",
       "\n",
       "        Jsc        FF  \n",
       "0  6.963861  57.44484  \n",
       "1  7.047848  47.87256  \n",
       "2  6.939877  59.92170  \n",
       "3  7.301575  63.20169  \n",
       "4  7.328048  65.04993  "
      ]
     },
     "execution_count": 2,
     "metadata": {},
     "output_type": "execute_result"
    }
   ],
   "source": [
    "device_df = pd.read_excel('/Users/wesleytatum/Desktop/py-conjugated/data/OPV_total_df.xlsx')\n",
    "print (device_df.shape)\n",
    "device_df.head()"
   ]
  },
  {
   "cell_type": "markdown",
   "metadata": {},
   "source": [
    "# Take in image data as a np.ndarray for embedding"
   ]
  },
  {
   "cell_type": "code",
   "execution_count": null,
   "metadata": {},
   "outputs": [],
   "source": [
    "im_directory = '/Volumes/SSD-1/Grad School/m2py/......./'\n",
    "\n",
    "im_filepaths = os.listdir(im_directory)\n",
    "\n",
    "image_dict = {} # Hold all the image-like data\n",
    "im_labels = {} # Gather all the processing conditions to be the predicted feature\n",
    "\n",
    "for i,fl in enumerate(im_filepaths):\n",
    "    image_dict[i] = np.load(im_directory+fl)\n",
    "    \n",
    "    anl_temp = 0\n",
    "    anl_time = 0\n",
    "    \n",
    "    if 'NOANNEAL' in fl:\n",
    "        pass\n",
    "    \n",
    "    else:\n",
    "        temp_stop_indx = fl.index('C')\n",
    "        anl_temp = int(fl[:temp_stop_indx])\n",
    "\n",
    "\n",
    "        time_start_indx = temp_stop_indx+2\n",
    "        time_stop_indx = fl.index('m')\n",
    "        time_stop_indx = time_stop_indx\n",
    "        anl_time = fl[time_start_indx:time_stop_indx]\n",
    "        anl_time = int(anl_time)\n",
    "        \n",
    "    im_labels[i] = [anl_temp, anl_time]\n",
    "    \n",
    "im_labels_df = pd.fromDict(im_labels)\n",
    "    \n",
    "print (image_dict.shape)\n",
    "im_labels.head()"
   ]
  },
  {
   "cell_type": "code",
   "execution_count": 3,
   "metadata": {},
   "outputs": [],
   "source": [
    "X_im = image_dict #input features used to make prediction\n",
    "Y_im = im_labels_df #target features to be predicted\n",
    "\n",
    "x_im_train, x_im_test, y_im_train, y_im_test = train_test_split(X_im,Y_im, test_size = 0.2, shuffle = True) #split dataset into separate testing and training datasets"
   ]
  },
  {
   "cell_type": "code",
   "execution_count": null,
   "metadata": {},
   "outputs": [],
   "source": [
    "# Hyper parameters\n",
    "num_epochs = 10\n",
    "im_batch_size = int(len(x_train[0])*0.9) # 90% of x_train samples\n",
    "df_batch_size = int(len(x_train[0])*0.9) # 90% of x_train samples\n",
    "im_learning_rate = 0.008\n",
    "df_learning_rate = 0.001\n",
    "\n",
    "# Device configuration (GPU if available, otherwise CPU)\n",
    "device = torch.device('cuda:0' if torch.cuda.is_available() else 'cpu')"
   ]
  },
  {
   "cell_type": "code",
   "execution_count": 4,
   "metadata": {},
   "outputs": [],
   "source": [
    "x_im_train_tensor = torch.tensor(x_im_train.values.astype(np.float32)) #convert pd.DataFrame -> np.ndarray -> torch.tensor\n",
    "y_im_train_tensor = torch.tensor(y_im_train.values.astype(np.float32))\n",
    "im_train_tensor = torch.utils.data.TensorDataset(x_im_train_tensor, y_im_train_tensor) #create tensor with features and targets\n",
    "im_training_data_set = torch.utils.data.DataLoader(dataset = im_train_tensor, batch_size = im_batch_size, shuffle = True) #create iterable dataset with batches\n",
    "\n",
    "x_im_test_tensor = torch.tensor(x_im_test.values.astype(np.float32))\n",
    "y_im_test_tensor = torch.tensor(y_test.values.astype(np.float32))\n",
    "im_test_tensor = torch.utils.data.TensorDataset(x_im_test_tensor, y_im_test_tensor)\n",
    "im_testing_data_set = torch.utils.data.DataLoader(dataset = im_test_tensor, batch_size = im_batch_size, shuffle = True)"
   ]
  },
  {
   "cell_type": "code",
   "execution_count": null,
   "metadata": {},
   "outputs": [],
   "source": [
    "im_x, im_y, im_z = x_im[0].shape"
   ]
  },
  {
   "cell_type": "code",
   "execution_count": null,
   "metadata": {},
   "outputs": [],
   "source": [
    "X_df = total_df[['Anneal_time', 'Anneal_temp', 'MajorAL_avg', 'MajorAL_stdev', 'MinorAL_avg',\n",
    "              'MinorAL_stdev', 'Ecc_avg', 'Ecc_stdev', 'Orient_avg', 'Orient_stdev', 'Perim_avg',\n",
    "              'Perim_stdev', 'GMM_label']] #input features used to make prediction\n",
    "Y_df = total_df[['PCE', 'VocL', 'Jsc', 'FF']] #target features to be predicted\n",
    "\n",
    "x_df_train, x_df_test, y_df_train, y_df_test = train_test_split(X_df,Y_df, test_size = 0.2, shuffle = True) #split dataset into separate testing and training datasets\n",
    "\n",
    "x_df_train_tensor = torch.tensor(x_df_train.values.astype(np.float32)) #convert pd.DataFrame -> np.ndarray -> torch.tensor\n",
    "y_df_train_tensor = torch.tensor(y_df_train.values.astype(np.float32))\n",
    "df_train_tensor = torch.utils.data.TensorDataset(x_df_train_tensor, y_df_train_tensor) #create tensor with features and targets\n",
    "df_training_data_set = torch.utils.data.DataLoader(dataset = df_train_tensor, batch_size = df_batch_size, shuffle = True) #create iterable dataset with batches\n",
    "\n",
    "x_df_test_tensor = torch.tensor(x_df_test.values.astype(np.float32))\n",
    "y_df_test_tensor = torch.tensor(y_test.values.astype(np.float32))\n",
    "df_test_tensor = torch.utils.data.TensorDataset(x_df_test_tensor, yv_test_tensor)\n",
    "df_testing_data_set = torch.utils.data.DataLoader(df_dataset = test_tensor, batch_size = df_batch_size, shuffle = True)"
   ]
  },
  {
   "cell_type": "code",
   "execution_count": null,
   "metadata": {},
   "outputs": [],
   "source": [
    "class ImBranchNN(nn.Module):\n",
    "    \n",
    "    def __init__(self, im_x, im_y, im_z):\n",
    "        super(ImBranchNN, self).__init__()\n",
    "        \n",
    "        self.layer1 = nn.Sequential(\n",
    "            nn.Conv2D(im_z, 32, kernal_size = 8, stride = 1, padding = 1),\n",
    "            nn.ReLU(),\n",
    "            nn.MaxPool2D(kernal_size = 2, stride = 2)\n",
    "        )\n",
    "        \n",
    "        self.layer2 = nn.Sequential(\n",
    "            nn.Conv2D(32, 64, kernal_size = 5, stride = 1, padding = 1),\n",
    "            nn.ReLU(),\n",
    "            nn.MaxPool2D(kernal_size = 2, stride = 2)\n",
    "        )\n",
    "            \n",
    "            \n",
    "        fc_nodes = (im_x/4) * (im_y/4) * 64 # 4 because there were 2 maxpool layers with 2x2 Kernals,\n",
    "                                            # reducing the overall channel width & height by half each time\n",
    "        \n",
    "        self.layer3 = nn.Sequential(\n",
    "            nn.dropout(),               #helps avoid over-fitting\n",
    "            nn.Linear(fc_nodes, 10000), #Final kernal-size * im_x * im_y\n",
    "            nn.Linear(10000, 5000),\n",
    "            nn.Linear(5000, 1000),\n",
    "            nn.Linear(1000, 100)\n",
    "        )\n",
    "        \n",
    "        self.out_layer = nn.Linear(100, 2) #predicting anneal time and temp\n",
    "            \n",
    "    def forward(self, x_im):\n",
    "        im_out = self.layer1(x_im)\n",
    "        im_out = self.layer2(im_out)\n",
    "        im_out = self.layer3(im_out)\n",
    "        im_train_out = self.out_layer(im_out)\n",
    "        \n",
    "        return im_out, im_train_out"
   ]
  },
  {
   "cell_type": "code",
   "execution_count": null,
   "metadata": {},
   "outputs": [],
   "source": [
    "def DfBranchNN(nn.Module):\n",
    "    \n",
    "    def __init__(self, in_dims, out_dims):\n",
    "        super(DfBranchNN, self).__init__()\n",
    "        \n",
    "        self.df_layer1 = nn.Sequential(\n",
    "            #embedding layer\n",
    "            self.em_layer = nn.Linear(in_dims, out_dims)\n",
    "\n",
    "            #hidden layers\n",
    "            self.h_layer1 = nn.Linear(out_dims, 32)\n",
    "            self.h_layer2 = nn.Linear(32, 16)\n",
    "            self.h_layer3 = nn.Linear(16, 8)\n",
    "        )\n",
    "\n",
    "        #output layers\n",
    "        self.PCE_branch = nn.Sequential(\n",
    "            nn.Dropout(p = 0.3),\n",
    "            nn.Linear(8, 32),\n",
    "            nn.Linear(32, 64),\n",
    "            nn.Linear(64, 16),\n",
    "            nn.Dropout(p = 0.3),\n",
    "            nn.Softplus(),\n",
    "            nn.Linear(16, 1)\n",
    "        )\n",
    "        self.Voc_branch = nn.Sequential(\n",
    "            nn.Dropout(p = 0.3),\n",
    "            nn.Linear(8, 32),\n",
    "            nn.Linear(32, 64),\n",
    "            nn.Linear(64, 16),\n",
    "            nn.Dropout(p = 0.3),\n",
    "            nn.Softplus(),\n",
    "            nn.Linear(16, 1)\n",
    "        )\n",
    "        self.Jsc_branch = nn.Sequential(\n",
    "            nn.Dropout(p = 0.3),\n",
    "            nn.Linear(8, 32),\n",
    "            nn.Linear(32, 64),\n",
    "            nn.Linear(64, 16),\n",
    "            nn.Dropout(p = 0.3),\n",
    "            nn.Softplus(),\n",
    "            nn.Linear(16, 1)\n",
    "        )\n",
    "        self.FF_branch = nn.Sequential(\n",
    "            nn.Dropout(p = 0.3),\n",
    "            nn.Linear(8, 32),\n",
    "            nn.Linear(32, 64),\n",
    "            nn.Linear(64, 16),\n",
    "            nn.Dropout(p = 0.3),\n",
    "            nn.Softplus(),\n",
    "            nn.Linear(16, 1)\n",
    "        )\n",
    "        \n",
    "        def forward(self, x_df):\n",
    "            df_out = self.df_layer1(x_df)\n",
    "            pce_out = self.PCE_branch(df_out)\n",
    "            voc_out = self.Voc_branch(df_out)\n",
    "            jsc_out = self.Jsc_branch(df_out)\n",
    "            ff_out = self.FF_branch(df_out)\n",
    "            \n",
    "            return pce_out, voc_out, jsc_out, ff_out"
   ]
  },
  {
   "cell_type": "code",
   "execution_count": 5,
   "metadata": {},
   "outputs": [],
   "source": [
    "#define the neural network\n",
    "class NN3(nn.Module):\n",
    "    \n",
    "    def __init__(self, im_branch_model, df_branch_model, im_x, im_y, im_z, in_dims, out_dims):\n",
    "        super(NN1, self).__init__()\n",
    "        \n",
    "        self.im_branch = im_branch_model(im_x, im_y, im_z)\n",
    "        \n",
    "        self.df_branch = df_branch_model(in_dims, out_dims)\n",
    "        \n",
    "        #Aggregation and compression layers\n",
    "        self.final_pce_branch = nn.Sequential(\n",
    "            nn.Linear(101, 256)\n",
    "            nn.Linear(256, 64)\n",
    "            nn.Linear(64, 1)\n",
    "        )\n",
    "        \n",
    "        self.final_voc_branch = nn.Sequential(\n",
    "            nn.Linear(101, 256)\n",
    "            nn.Linear(256, 64)\n",
    "            nn.Linear(64, 1)\n",
    "        )\n",
    "        \n",
    "        self.final_jsc_branch = nn.Sequential(\n",
    "            nn.Linear(101, 256)\n",
    "            nn.Linear(256, 64)\n",
    "            nn.Linear(64, 1)\n",
    "        )\n",
    "        \n",
    "        self.final_ff_branch = nn.Sequential(\n",
    "            nn.Linear(101, 256)\n",
    "            nn.Linear(256, 64)\n",
    "            nn.Linear(64, 1)\n",
    "        )\n",
    "        \n",
    "        \n",
    "    def forward(self, x_im, x_df):\n",
    "        \n",
    "        #Image branch. Only use 100-D tensor of morphology info for final output\n",
    "        im_out, im_train_out = self.im_branch(x_im)\n",
    "        \n",
    "        #DataFrame branch\n",
    "        pce_out, voc_out, jsc_out, ff_out = self.df_branch(x_df)\n",
    "        \n",
    "        #Combine outputs from the two branches\n",
    "        total_pce_out = torch.cat((im_out, pce_out), dim = 1)\n",
    "        total_voc_out = torch.cat((im_out, voc_out), dim = 1)\n",
    "        total_jsc_out = torch.cat((im_out, jsc_out), dim = 1)\n",
    "        total_ff_out = torch.cat((im_out, ff_out), dim = 1)\n",
    "        \n",
    "        #Aggregation and output layers\n",
    "        total_pce_out = self.final_pce_branch(total_pce_out)\n",
    "        total_voc_out = self.final_voc_branch(total_voc_out)\n",
    "        total_jsc_out = self.final_jsc_branch(total_jsc_out)\n",
    "        total_ff_out = self.final_ff_branch(total_ff_out)\n",
    "        \n",
    "        return total_pce_out, total_voc_out, total_jsc_out, total_ff_out, im_out, im_train_out pce_out, voc_out, jsc_out, ff_out"
   ]
  },
  {
   "cell_type": "code",
   "execution_count": null,
   "metadata": {},
   "outputs": [],
   "source": [
    "def train_im_branch_one_epoch(model, im_training_data_set, im_criterion):\n",
    "    total_step = len(im_training_data_set)\n",
    "    loss_list = []\n",
    "    \n",
    "    model.train()\n",
    "    \n",
    "#     #freeze other layers\n",
    "#     model.df_branch.weight.requires_grad = False\n",
    "#     model.df_branch.bias.requires_grad = False\n",
    "#     model.final_pce_branch.weight.requires_grad = False\n",
    "#     model.final_pce_branch.bias.requires_grad = False\n",
    "#     model.final_voc_branch.weight.requires_grad = False\n",
    "#     model.final_voc_branch.bias.requires_grad = False\n",
    "#     model.final_jsc_branch.weight.requires_grad = False\n",
    "#     model.final_jsc_branch.bias.requires_grad = False\n",
    "#     model.final_ff_branch.weight.requires_grad = False\n",
    "#     model.final_ff_branch.bias.requires_grad = False\n",
    "    \n",
    "    for images, labels in im_training_data_set:\n",
    "        # Run the forward pass\n",
    "        im_out, im_train_out = model(images)\n",
    "        optimizer.zero_grad()\n",
    "        \n",
    "        optimizer = torch.optim.Adam(filter(lambda p: p.requires_grad, model.parameters()), lr=im_learning_rate)\n",
    "        \n",
    "        # Gather the loss\n",
    "        loss = im_criterion(outputs, labels)\n",
    "        loss_list.append(loss.item())\n",
    "\n",
    "        # backprop and perform Adam optimization\n",
    "        torch.autograd.backward(loss)\n",
    "        optimizer.step()\n",
    "        \n",
    "#     #unfreeze other layers\n",
    "#     model.df_branch.weight.requires_grad = True\n",
    "#     model.df_branch.bias.requires_grad = True\n",
    "#     model.final_pce_branch.weight.requires_grad = True\n",
    "#     model.final_pce_branch.bias.requires_grad = True\n",
    "#     model.final_voc_branch.weight.requires_grad = True\n",
    "#     model.final_voc_branch.bias.requires_grad = True\n",
    "#     model.final_jsc_branch.weight.requires_grad = True\n",
    "#     model.final_jsc_branch.bias.requires_grad = True\n",
    "#     model.final_ff_branch.weight.requires_grad = True\n",
    "#     model.final_ff_branch.bias.requires_grad = True\n",
    "    \n",
    "#     #Add the previously frozen weights to the optimizer\n",
    "#     optimizer.add_param_group({'params': [model.df_branch.parameters(), model.final_pce_branch.parameters(),\n",
    "#                                               model.final_voc_branch.parameters(), model.final_jsc_branch.parameters(),\n",
    "#                                               model.final_ff_branch.parameters()]})\n",
    "    \n",
    "    total = len(loss_list)\n",
    "    epoch_loss = sum(loss_list)/total\n",
    "    \n",
    "    return epoch_loss"
   ]
  },
  {
   "cell_type": "code",
   "execution_count": null,
   "metadata": {},
   "outputs": [],
   "source": [
    "def train_df_branch_one_epoch(model, df_training_data_set, df_criterion):\n",
    "    \n",
    "    model.train()\n",
    "    \n",
    "#     #freeze other layers\n",
    "#     model.im_branch.weight.requires_grad = False\n",
    "#     model.im_branch.bias.requires_grad = False\n",
    "#     model.final_pce_branch.weight.requires_grad = False\n",
    "#     model.final_pce_branch.bias.requires_grad = False\n",
    "#     model.final_voc_branch.weight.requires_grad = False\n",
    "#     model.final_voc_branch.bias.requires_grad = False\n",
    "#     model.final_jsc_branch.weight.requires_grad = False\n",
    "#     model.final_jsc_branch.bias.requires_grad = False\n",
    "#     model.final_ff_branch.weight.requires_grad = False\n",
    "#     model.final_ff_branch.bias.requires_grad = False\n",
    "    \n",
    "    train_epoch_loss = []\n",
    "    pce_train_epoch_loss = []\n",
    "    voc_train_epoch_loss = []\n",
    "    jsc_train_epoch_loss = []\n",
    "    ff_train_epoch_loss = []\n",
    "    \n",
    "    train_losses = []\n",
    "    pce_train_losses = []\n",
    "    voc_train_losses = []\n",
    "    jsc_train_losses = []\n",
    "    ff_train_losses = []\n",
    "    \n",
    "    pce_criterion = PhysLoss.ThresholdedMSELoss(lower = 0, upper = 6)\n",
    "    voc_criterion = PhysLoss.ThresholdedMSELoss(lower = 0, upper = 1)\n",
    "    jsc_criterion = PhysLoss.ThresholdedMSELoss(lower = 0, upper = 10)\n",
    "    ff_criterion = PhysLoss.ThresholdedMSELoss(lower = 10, upper = 85)\n",
    "    \n",
    "    train_total = 0\n",
    "    \n",
    "    for train_data, pce_labels, voc_labels, jsc_labels, ff_labels in df_training_data_set:\n",
    "        \n",
    "        train_data = train_data.to(device)\n",
    "        pce_labels = pce_labels.to(device)\n",
    "        voc_labels = voc_labels.to(device)\n",
    "        jsc_labels = jsc_labels.to(device)\n",
    "        ff_labels = ff_labels.to(device)\n",
    "        \n",
    "        model.zero_grad()\n",
    "        optimizer = torch.optim.Adam(filter(lambda p: p.requires_grad, model.parameters()), lr=im_learning_rate)\n",
    "        \n",
    "        PCE_out, Voc_out, Jsc_out, FF_out = model(train_data)\n",
    "        \n",
    "        #calculate error in the predictions\n",
    "        pce_loss = pce_criterion(PCE_out, pce_labels)\n",
    "        voc_loss = voc_criterion(Voc_out, voc_labels)\n",
    "        jsc_loss = jsc_criterion(Jsc_out, jsc_labels)\n",
    "        ff_loss = ff_criterion(FF_out, ff_labels)\n",
    "        \n",
    "        total_loss = pce_loss + voc_loss + jsc_loss + ff_loss\n",
    "        \n",
    "        #BACKPROPOGATE LIKE A MF\n",
    "        torch.autograd.backward([pce_loss, voc_loss, jsc_loss, ff_loss])\n",
    "        optimizer.step()\n",
    "        \n",
    "        #save loss for this batch\n",
    "        train_losses.append(total_loss.item())\n",
    "        train_total+=1\n",
    "        \n",
    "        pce_train_losses.append(pce_loss.item())\n",
    "        voc_train_losses.append(voc_loss.item())\n",
    "        jsc_train_losses.append(jsc_loss.item())\n",
    "        ff_train_losses.append(ff_loss.item())\n",
    "        \n",
    "    #calculate and save total error for this epoch of training\n",
    "    epoch_loss = sum(train_losses)/train_total\n",
    "    train_epoch_loss.append(epoch_loss)\n",
    "    \n",
    "    pce_train_epoch_loss.append(sum(pce_train_losses)/train_total)\n",
    "    voc_train_epoch_loss.append(sum(voc_train_losses)/train_total)\n",
    "    jsc_train_epoch_loss.append(sum(jsc_train_losses)/train_total)\n",
    "    ff_train_epoch_loss.append(sum(ff_train_losses)/train_total)\n",
    "    \n",
    "    #update progress output\n",
    "    print(f\"Total Epoch Training Loss = {train_epoch_loss}\")\n",
    "    \n",
    "#     #unfreeze other layers\n",
    "#     model.im_branch.weight.requires_grad = True\n",
    "#     model.im_branch.bias.requires_grad = True\n",
    "#     model.final_pce_branch.weight.requires_grad = True\n",
    "#     model.final_pce_branch.bias.requires_grad = True\n",
    "#     model.final_voc_branch.weight.requires_grad = True\n",
    "#     model.final_voc_branch.bias.requires_grad = True\n",
    "#     model.final_jsc_branch.weight.requires_grad = True\n",
    "#     model.final_jsc_branch.bias.requires_grad = True\n",
    "#     model.final_ff_branch.weight.requires_grad = True\n",
    "#     model.final_ff_branch.bias.requires_grad = True\n",
    "    \n",
    "#     #Add the previously frozen weights to the optimizer\n",
    "#     optimizer.add_param_group({'params': [model.im_branch.parameters(), model.final_pce_branch.parameters(),\n",
    "#                                               model.final_voc_branch.parameters(), model.final_jsc_branch.parameters(),\n",
    "#                                               model.final_ff_branch.parameters()]})\n",
    "    \n",
    "    return train_epoch_loss, pce_train_epoch_loss, voc_train_epoch_loss, jsc_train_epoch_loss, ff_train_epoch_loss"
   ]
  },
  {
   "cell_type": "code",
   "execution_count": null,
   "metadata": {},
   "outputs": [],
   "source": [
    "def train_ensemble_one_epoch(model, x_im, x_df, final_criterion):\n",
    "    \n",
    "    model.train()\n",
    "    \n",
    "    #freeze other layers\n",
    "    model.im_branch.weight.requires_grad = False\n",
    "    model.im_branch.bias.requires_grad = False\n",
    "    model.df_branch.weight.requires_grad = False\n",
    "    model.df_branch.bias.requires_grad = False\n",
    "    \n",
    "    for i in range(total_step):\n",
    "        # Run the forward pass\n",
    "        PCE_out, Voc_out, Jsc_out, FF_out = model(x_im, x_df)\n",
    "        optimizer.zero_grad()\n",
    "        \n",
    "        optimizer = torch.optim.Adam(filter(lambda p: p.requires_grad, model.parameters()), lr=final_learning_rate)\n",
    "        \n",
    "        # Gather the loss\n",
    "        pce_loss = pce_criterion(PCE_out, pce_labels)\n",
    "        voc_loss = voc_criterion(Voc_out, voc_labels)\n",
    "        jsc_loss = jsc_criterion(Jsc_out, jsc_labels)\n",
    "        ff_loss = ff_criterion(FF_out, ff_labels)\n",
    "        \n",
    "        # Clear previous gradients, backprop and perform Adam optimization\n",
    "        torch.autograd.backward([pce_loss, voc_loss, jsc_loss, ff_loss])\n",
    "        optimizer.step()\n",
    "        \n",
    "        pce_train_losses.append(pce_loss.item())\n",
    "        voc_train_losses.append(voc_loss.item())\n",
    "        jsc_train_losses.append(jsc_loss.item())\n",
    "        ff_train_losses.append(ff_loss.item())\n",
    "    \n",
    "    #unfreeze other layers\n",
    "    model.im_branch.weight.requires_grad = True\n",
    "    model.im_branch.bias.requires_grad = True\n",
    "    model.df_branch.weight.requires_grad = True\n",
    "    model.df_branch.bias.requires_grad = True\n",
    "    \n",
    "    #Add the previously frozen weights to the optimizer\n",
    "    optimizer.add_param_group({'params': [model.im_branch.parameters(), model.df_branch.parameters()]})\n",
    "    \n",
    "    return loss_list"
   ]
  },
  {
   "cell_type": "code",
   "execution_count": 7,
   "metadata": {},
   "outputs": [],
   "source": [
    "def eval_model(model, testing_data_set, criterion, optimizer):\n",
    "    #evaluate the model\n",
    "    model.eval()\n",
    "\n",
    "    #don't update nodes during evaluation b/c not training\n",
    "    with torch.no_grad():\n",
    "        test_losses = []\n",
    "        test_total = 0\n",
    "\n",
    "        for inputs, labels in testing_data_set:\n",
    "            inputs = inputs.to(device)\n",
    "            labels = labels.to(device)\n",
    "\n",
    "            outputs = model(inputs)\n",
    "    \n",
    "            # calculate loss per batch of testing data\n",
    "            test_loss = criterion(outputs, labels)\n",
    "            test_losses.append(test_loss.item())\n",
    "            test_total += 1\n",
    "\n",
    "        total_test_loss = sum(test_losses)/test_total\n",
    "\n",
    "        print (f\"Total testing loss is: {total_test_loss}\")\n",
    "    return total_test_loss"
   ]
  },
  {
   "cell_type": "code",
   "execution_count": null,
   "metadata": {},
   "outputs": [],
   "source": [
    "def eval_im_branch():"
   ]
  },
  {
   "cell_type": "code",
   "execution_count": null,
   "metadata": {},
   "outputs": [],
   "source": [
    "def eval_df_branch():"
   ]
  },
  {
   "cell_type": "code",
   "execution_count": null,
   "metadata": {},
   "outputs": [],
   "source": [
    "def eval_final_branch():"
   ]
  },
  {
   "cell_type": "markdown",
   "metadata": {},
   "source": [
    "Now that the data, model, training, and evaluating are all set up, let's actually use everything"
   ]
  },
  {
   "cell_type": "code",
   "execution_count": null,
   "metadata": {},
   "outputs": [],
   "source": [
    "im_x, im_y, im_z = image_dict.shape()\n",
    "print (image_dict.shape())\n",
    "\n",
    "# predicts 4 metrics (PCE, Voc, Jsc, FF)\n",
    "in_dims = int(x_train_tensor.size(1)) #number of x channels\n",
    "out_dims = y_test.shape[1] #number of predicted features\n",
    "\n",
    "# takes in 2 models, 2 label map dimensions, dataframe features\n",
    "im_branch_model = ImBranchNN(im_x, im_y, im_z)\n",
    "df_branch_model = DFBranchNN(in_dims, out_dims)\n",
    "\n",
    "\n",
    "#define the loss function and the optimizer\n",
    "im_criterion = nn.CrossEntropyLoss()\n",
    "im_optimizer = torch.optim.Adam(model.parameters(), lr = im_learning_rate)\n",
    "\n",
    "df_criterion = nn.MSELoss(reduction = 'mean')\n",
    "df_optimizer = torch.optim.Adam(params = model.parameters(), lr = df_learning_rate)\n",
    "\n"
   ]
  },
  {
   "cell_type": "code",
   "execution_count": null,
   "metadata": {},
   "outputs": [],
   "source": [
    "#empty list to hold loss per epoch\n",
    "im_train_epoch_losses = []\n",
    "im_test_epoch_losses = []\n",
    "df_train_epoch_losses = []\n",
    "df_test_epoch_losses = []"
   ]
  },
  {
   "cell_type": "code",
   "execution_count": null,
   "metadata": {},
   "outputs": [],
   "source": [
    "for epoch in range(num_epochs):\n",
    "    \n",
    "    # First Train the image branch\n",
    "    im_train_epoch_loss = train_im_branch_one_epoch(model = im_branch_model,\n",
    "                                   training_data_set = im_training_data_set,\n",
    "                                   criterion = im_criterion,\n",
    "                                   optimizer = im_optimizer)\n",
    "    \n",
    "    im_train_epoch_losses.append(im_train_epoch_loss)\n",
    "    \n",
    "    im_test_epoch_loss = eval_im_branch(model = im_branch_model,\n",
    "                                 testing_data_set = im_testing_data_set,\n",
    "                                 criterion = im_criterion,\n",
    "                                 optimizer = im_optimizer)\n",
    "    \n",
    "    im_test_epoch_losses.append(im_test_epoch_loss)\n",
    "    \n",
    "    # Then Train the dataframe branch\n",
    "    df_train_epoch_loss = train_df_branch_one_epoch(model = df_branch_model,\n",
    "                                   training_data_set = df_training_data_set,\n",
    "                                   criterion = df_criterion,\n",
    "                                   optimizer = df_optimizer)\n",
    "    \n",
    "    df_train_epoch_losses.append(df_train_epoch_loss)\n",
    "    \n",
    "    df_test_epoch_loss = eval_df_branch(model = df_branch_model,\n",
    "                                 testing_data_set = df_testing_data_set,\n",
    "                                 criterion = df_criterion,\n",
    "                                 optimizer = df_optimizer)\n",
    "    \n",
    "    df_test_epoch_losses.append(df_test_epoch_loss)"
   ]
  },
  {
   "cell_type": "code",
   "execution_count": null,
   "metadata": {},
   "outputs": [],
   "source": [
    "# save the trained branch model states"
   ]
  },
  {
   "cell_type": "code",
   "execution_count": null,
   "metadata": {},
   "outputs": [],
   "source": [
    "#load the states of the trained branches\n",
    "im_branch = ImBranchNN(im_x, im_y, im_z)\n",
    "df_branch = DFBranchNN(in_dims, out_dims)\n",
    "\n",
    "modelA.load_state_dict(torch.load(PATH))\n",
    "modelB.load_state_dict(torch.load(PATH))\n",
    "\n",
    "model = NN3(im_branch, df_branch, im_x, im_y, im_z,in_dims = in_dims, out_dims = out_dims).to(device)\n",
    "\n",
    "final_criterion = nn.MSELoss(reduction = 'mean')\n",
    "final_optimizer = torch.optim.Adam(params = model.parameters(), lr = final_learning_rate)"
   ]
  },
  {
   "cell_type": "code",
   "execution_count": 9,
   "metadata": {
    "scrolled": true
   },
   "outputs": [
    {
     "data": {
      "application/vnd.jupyter.widget-view+json": {
       "model_id": "2b7fe0eac50a40e896bd5227628efe94",
       "version_major": 2,
       "version_minor": 0
      },
      "text/plain": [
       "HBox(children=(IntProgress(value=0, description='Progress:', max=6, style=ProgressStyle(description_width='ini…"
      ]
     },
     "metadata": {},
     "output_type": "display_data"
    },
    {
     "name": "stdout",
     "output_type": "stream",
     "text": [
      "\n",
      "Epoch #1\tTrain Loss: 220.278\n",
      "Total testing loss is: 135.49010848999023\n"
     ]
    },
    {
     "data": {
      "application/vnd.jupyter.widget-view+json": {
       "model_id": "7207c7e91a0c450881362e37972fe445",
       "version_major": 2,
       "version_minor": 0
      },
      "text/plain": [
       "HBox(children=(IntProgress(value=0, description='Progress:', max=6, style=ProgressStyle(description_width='ini…"
      ]
     },
     "metadata": {},
     "output_type": "display_data"
    },
    {
     "name": "stdout",
     "output_type": "stream",
     "text": [
      "\n",
      "Epoch #2\tTrain Loss: 127.618\n",
      "Total testing loss is: 87.39285278320312\n"
     ]
    },
    {
     "data": {
      "application/vnd.jupyter.widget-view+json": {
       "model_id": "09b6ebef67694ddbaa80ce90a10aedce",
       "version_major": 2,
       "version_minor": 0
      },
      "text/plain": [
       "HBox(children=(IntProgress(value=0, description='Progress:', max=6, style=ProgressStyle(description_width='ini…"
      ]
     },
     "metadata": {},
     "output_type": "display_data"
    },
    {
     "name": "stdout",
     "output_type": "stream",
     "text": [
      "\n",
      "Epoch #3\tTrain Loss: 93.634\n",
      "Total testing loss is: 104.9712028503418\n"
     ]
    },
    {
     "data": {
      "application/vnd.jupyter.widget-view+json": {
       "model_id": "dddd13e5c17f45e4b83e13f6b3aa1b7c",
       "version_major": 2,
       "version_minor": 0
      },
      "text/plain": [
       "HBox(children=(IntProgress(value=0, description='Progress:', max=6, style=ProgressStyle(description_width='ini…"
      ]
     },
     "metadata": {},
     "output_type": "display_data"
    },
    {
     "name": "stdout",
     "output_type": "stream",
     "text": [
      "\n",
      "Epoch #4\tTrain Loss: 93.897\n",
      "Total testing loss is: 90.86677551269531\n"
     ]
    },
    {
     "data": {
      "application/vnd.jupyter.widget-view+json": {
       "model_id": "17ce9615bf1d4de2b2413bb62bf875ae",
       "version_major": 2,
       "version_minor": 0
      },
      "text/plain": [
       "HBox(children=(IntProgress(value=0, description='Progress:', max=6, style=ProgressStyle(description_width='ini…"
      ]
     },
     "metadata": {},
     "output_type": "display_data"
    },
    {
     "name": "stdout",
     "output_type": "stream",
     "text": [
      "\n",
      "Epoch #5\tTrain Loss: 90.259\n",
      "Total testing loss is: 102.85666275024414\n"
     ]
    },
    {
     "data": {
      "application/vnd.jupyter.widget-view+json": {
       "model_id": "912d656560574f9b948a95e722e8ede8",
       "version_major": 2,
       "version_minor": 0
      },
      "text/plain": [
       "HBox(children=(IntProgress(value=0, description='Progress:', max=6, style=ProgressStyle(description_width='ini…"
      ]
     },
     "metadata": {},
     "output_type": "display_data"
    },
    {
     "name": "stdout",
     "output_type": "stream",
     "text": [
      "\n",
      "Epoch #6\tTrain Loss: 87.791\n",
      "Total testing loss is: 86.30208587646484\n"
     ]
    },
    {
     "data": {
      "application/vnd.jupyter.widget-view+json": {
       "model_id": "60488380343b47279f1317347e9e5005",
       "version_major": 2,
       "version_minor": 0
      },
      "text/plain": [
       "HBox(children=(IntProgress(value=0, description='Progress:', max=6, style=ProgressStyle(description_width='ini…"
      ]
     },
     "metadata": {},
     "output_type": "display_data"
    },
    {
     "name": "stdout",
     "output_type": "stream",
     "text": [
      "\n",
      "Epoch #7\tTrain Loss: 84.913\n",
      "Total testing loss is: 95.08184814453125\n"
     ]
    },
    {
     "data": {
      "application/vnd.jupyter.widget-view+json": {
       "model_id": "dc5576e4695d477aaa798252a888677a",
       "version_major": 2,
       "version_minor": 0
      },
      "text/plain": [
       "HBox(children=(IntProgress(value=0, description='Progress:', max=6, style=ProgressStyle(description_width='ini…"
      ]
     },
     "metadata": {},
     "output_type": "display_data"
    },
    {
     "name": "stdout",
     "output_type": "stream",
     "text": [
      "\n",
      "Epoch #8\tTrain Loss: 81.852\n",
      "Total testing loss is: 86.94995498657227\n"
     ]
    },
    {
     "data": {
      "application/vnd.jupyter.widget-view+json": {
       "model_id": "5b0804745f964e28a3d629398be437c0",
       "version_major": 2,
       "version_minor": 0
      },
      "text/plain": [
       "HBox(children=(IntProgress(value=0, description='Progress:', max=6, style=ProgressStyle(description_width='ini…"
      ]
     },
     "metadata": {},
     "output_type": "display_data"
    },
    {
     "name": "stdout",
     "output_type": "stream",
     "text": [
      "\n",
      "Epoch #9\tTrain Loss: 81.472\n",
      "Total testing loss is: 77.79970359802246\n"
     ]
    },
    {
     "data": {
      "application/vnd.jupyter.widget-view+json": {
       "model_id": "d2649d0174cb4e05b08915d4b38f4373",
       "version_major": 2,
       "version_minor": 0
      },
      "text/plain": [
       "HBox(children=(IntProgress(value=0, description='Progress:', max=6, style=ProgressStyle(description_width='ini…"
      ]
     },
     "metadata": {},
     "output_type": "display_data"
    },
    {
     "name": "stdout",
     "output_type": "stream",
     "text": [
      "\n",
      "Epoch #10\tTrain Loss: 80.658\n",
      "Total testing loss is: 85.96835327148438\n"
     ]
    },
    {
     "data": {
      "application/vnd.jupyter.widget-view+json": {
       "model_id": "c133cf0963c541a69bc31b388618824c",
       "version_major": 2,
       "version_minor": 0
      },
      "text/plain": [
       "HBox(children=(IntProgress(value=0, description='Progress:', max=6, style=ProgressStyle(description_width='ini…"
      ]
     },
     "metadata": {},
     "output_type": "display_data"
    },
    {
     "name": "stdout",
     "output_type": "stream",
     "text": [
      "\n",
      "Epoch #11\tTrain Loss: 79.511\n",
      "Total testing loss is: 82.94087982177734\n"
     ]
    },
    {
     "data": {
      "application/vnd.jupyter.widget-view+json": {
       "model_id": "ff624dfd11de4895ad27ec39977a1afc",
       "version_major": 2,
       "version_minor": 0
      },
      "text/plain": [
       "HBox(children=(IntProgress(value=0, description='Progress:', max=6, style=ProgressStyle(description_width='ini…"
      ]
     },
     "metadata": {},
     "output_type": "display_data"
    },
    {
     "name": "stdout",
     "output_type": "stream",
     "text": [
      "\n",
      "Epoch #12\tTrain Loss: 80.455\n",
      "Total testing loss is: 85.11249923706055\n"
     ]
    },
    {
     "data": {
      "application/vnd.jupyter.widget-view+json": {
       "model_id": "1e2518523b6e475b8706d460fd8c446a",
       "version_major": 2,
       "version_minor": 0
      },
      "text/plain": [
       "HBox(children=(IntProgress(value=0, description='Progress:', max=6, style=ProgressStyle(description_width='ini…"
      ]
     },
     "metadata": {},
     "output_type": "display_data"
    },
    {
     "name": "stdout",
     "output_type": "stream",
     "text": [
      "\n",
      "Epoch #13\tTrain Loss: 81.419\n",
      "Total testing loss is: 93.26236724853516\n"
     ]
    },
    {
     "data": {
      "application/vnd.jupyter.widget-view+json": {
       "model_id": "8dcb64009e724fed84c3fe8773be3c1d",
       "version_major": 2,
       "version_minor": 0
      },
      "text/plain": [
       "HBox(children=(IntProgress(value=0, description='Progress:', max=6, style=ProgressStyle(description_width='ini…"
      ]
     },
     "metadata": {},
     "output_type": "display_data"
    },
    {
     "name": "stdout",
     "output_type": "stream",
     "text": [
      "\n",
      "Epoch #14\tTrain Loss: 79.661\n",
      "Total testing loss is: 92.95965194702148\n"
     ]
    },
    {
     "data": {
      "application/vnd.jupyter.widget-view+json": {
       "model_id": "32f093beb8784535ace8e6f458e7f3ac",
       "version_major": 2,
       "version_minor": 0
      },
      "text/plain": [
       "HBox(children=(IntProgress(value=0, description='Progress:', max=6, style=ProgressStyle(description_width='ini…"
      ]
     },
     "metadata": {},
     "output_type": "display_data"
    },
    {
     "name": "stdout",
     "output_type": "stream",
     "text": [
      "\n",
      "Epoch #15\tTrain Loss: 79.597\n",
      "Total testing loss is: 78.95597839355469\n"
     ]
    },
    {
     "data": {
      "application/vnd.jupyter.widget-view+json": {
       "model_id": "64d714e80dfe4f7caf1030847013a2ff",
       "version_major": 2,
       "version_minor": 0
      },
      "text/plain": [
       "HBox(children=(IntProgress(value=0, description='Progress:', max=6, style=ProgressStyle(description_width='ini…"
      ]
     },
     "metadata": {},
     "output_type": "display_data"
    },
    {
     "name": "stdout",
     "output_type": "stream",
     "text": [
      "\n",
      "Epoch #16\tTrain Loss: 80.208\n",
      "Total testing loss is: 90.13513565063477\n"
     ]
    },
    {
     "data": {
      "application/vnd.jupyter.widget-view+json": {
       "model_id": "22ec21773c364deea584d538fc84cb93",
       "version_major": 2,
       "version_minor": 0
      },
      "text/plain": [
       "HBox(children=(IntProgress(value=0, description='Progress:', max=6, style=ProgressStyle(description_width='ini…"
      ]
     },
     "metadata": {},
     "output_type": "display_data"
    },
    {
     "name": "stdout",
     "output_type": "stream",
     "text": [
      "\n",
      "Epoch #17\tTrain Loss: 79.465\n",
      "Total testing loss is: 82.67920303344727\n"
     ]
    },
    {
     "data": {
      "application/vnd.jupyter.widget-view+json": {
       "model_id": "99bed796615f444d8829aeaff687feb9",
       "version_major": 2,
       "version_minor": 0
      },
      "text/plain": [
       "HBox(children=(IntProgress(value=0, description='Progress:', max=6, style=ProgressStyle(description_width='ini…"
      ]
     },
     "metadata": {},
     "output_type": "display_data"
    },
    {
     "name": "stdout",
     "output_type": "stream",
     "text": [
      "\n",
      "Epoch #18\tTrain Loss: 80.877\n",
      "Total testing loss is: 94.0641098022461\n"
     ]
    },
    {
     "data": {
      "application/vnd.jupyter.widget-view+json": {
       "model_id": "0a945db4c4244a14b5b695d2434059a6",
       "version_major": 2,
       "version_minor": 0
      },
      "text/plain": [
       "HBox(children=(IntProgress(value=0, description='Progress:', max=6, style=ProgressStyle(description_width='ini…"
      ]
     },
     "metadata": {},
     "output_type": "display_data"
    },
    {
     "name": "stdout",
     "output_type": "stream",
     "text": [
      "\n",
      "Epoch #19\tTrain Loss: 76.733\n",
      "Total testing loss is: 75.98038482666016\n"
     ]
    },
    {
     "data": {
      "application/vnd.jupyter.widget-view+json": {
       "model_id": "d19a453b8cf94b0f87ff5d1b2352b92b",
       "version_major": 2,
       "version_minor": 0
      },
      "text/plain": [
       "HBox(children=(IntProgress(value=0, description='Progress:', max=6, style=ProgressStyle(description_width='ini…"
      ]
     },
     "metadata": {},
     "output_type": "display_data"
    },
    {
     "name": "stdout",
     "output_type": "stream",
     "text": [
      "\n",
      "Epoch #20\tTrain Loss: 78.287\n",
      "Total testing loss is: 73.81434440612793\n"
     ]
    },
    {
     "data": {
      "application/vnd.jupyter.widget-view+json": {
       "model_id": "ef60d592c3284d5381c6dce9ca67229b",
       "version_major": 2,
       "version_minor": 0
      },
      "text/plain": [
       "HBox(children=(IntProgress(value=0, description='Progress:', max=6, style=ProgressStyle(description_width='ini…"
      ]
     },
     "metadata": {},
     "output_type": "display_data"
    },
    {
     "name": "stdout",
     "output_type": "stream",
     "text": [
      "\n",
      "Epoch #21\tTrain Loss: 75.162\n",
      "Total testing loss is: 74.93417358398438\n"
     ]
    },
    {
     "data": {
      "application/vnd.jupyter.widget-view+json": {
       "model_id": "902557348aa4426aaef314733c92a877",
       "version_major": 2,
       "version_minor": 0
      },
      "text/plain": [
       "HBox(children=(IntProgress(value=0, description='Progress:', max=6, style=ProgressStyle(description_width='ini…"
      ]
     },
     "metadata": {},
     "output_type": "display_data"
    },
    {
     "name": "stdout",
     "output_type": "stream",
     "text": [
      "\n",
      "Epoch #22\tTrain Loss: 74.560\n",
      "Total testing loss is: 81.36275100708008\n"
     ]
    },
    {
     "data": {
      "application/vnd.jupyter.widget-view+json": {
       "model_id": "6243ef198da9411fb10e901dc7a6bf42",
       "version_major": 2,
       "version_minor": 0
      },
      "text/plain": [
       "HBox(children=(IntProgress(value=0, description='Progress:', max=6, style=ProgressStyle(description_width='ini…"
      ]
     },
     "metadata": {},
     "output_type": "display_data"
    },
    {
     "name": "stdout",
     "output_type": "stream",
     "text": [
      "\n",
      "Epoch #23\tTrain Loss: 73.545\n",
      "Total testing loss is: 71.53865242004395\n"
     ]
    },
    {
     "data": {
      "application/vnd.jupyter.widget-view+json": {
       "model_id": "be3ddaeb555d4334b1f64146cb66cbd7",
       "version_major": 2,
       "version_minor": 0
      },
      "text/plain": [
       "HBox(children=(IntProgress(value=0, description='Progress:', max=6, style=ProgressStyle(description_width='ini…"
      ]
     },
     "metadata": {},
     "output_type": "display_data"
    },
    {
     "name": "stdout",
     "output_type": "stream",
     "text": [
      "\n",
      "Epoch #24\tTrain Loss: 75.431\n",
      "Total testing loss is: 72.4780158996582\n"
     ]
    },
    {
     "data": {
      "application/vnd.jupyter.widget-view+json": {
       "model_id": "7dd231fedf634aa796a5fd4f8ea27dcb",
       "version_major": 2,
       "version_minor": 0
      },
      "text/plain": [
       "HBox(children=(IntProgress(value=0, description='Progress:', max=6, style=ProgressStyle(description_width='ini…"
      ]
     },
     "metadata": {},
     "output_type": "display_data"
    },
    {
     "name": "stdout",
     "output_type": "stream",
     "text": [
      "\n",
      "Epoch #25\tTrain Loss: 77.581\n",
      "Total testing loss is: 74.4681625366211\n"
     ]
    },
    {
     "data": {
      "application/vnd.jupyter.widget-view+json": {
       "model_id": "9ec0cd21178b4c58ae0c45158f956644",
       "version_major": 2,
       "version_minor": 0
      },
      "text/plain": [
       "HBox(children=(IntProgress(value=0, description='Progress:', max=6, style=ProgressStyle(description_width='ini…"
      ]
     },
     "metadata": {},
     "output_type": "display_data"
    },
    {
     "name": "stdout",
     "output_type": "stream",
     "text": [
      "\n",
      "Epoch #26\tTrain Loss: 82.681\n",
      "Total testing loss is: 121.17367553710938\n"
     ]
    },
    {
     "data": {
      "application/vnd.jupyter.widget-view+json": {
       "model_id": "17ce1ba9194242738f60f8dd2275a7ae",
       "version_major": 2,
       "version_minor": 0
      },
      "text/plain": [
       "HBox(children=(IntProgress(value=0, description='Progress:', max=6, style=ProgressStyle(description_width='ini…"
      ]
     },
     "metadata": {},
     "output_type": "display_data"
    },
    {
     "name": "stdout",
     "output_type": "stream",
     "text": [
      "\n",
      "Epoch #27\tTrain Loss: 88.132\n",
      "Total testing loss is: 77.72806167602539\n"
     ]
    },
    {
     "data": {
      "application/vnd.jupyter.widget-view+json": {
       "model_id": "c585c21d6e024437ba4ffe87356b9146",
       "version_major": 2,
       "version_minor": 0
      },
      "text/plain": [
       "HBox(children=(IntProgress(value=0, description='Progress:', max=6, style=ProgressStyle(description_width='ini…"
      ]
     },
     "metadata": {},
     "output_type": "display_data"
    },
    {
     "name": "stdout",
     "output_type": "stream",
     "text": [
      "\n",
      "Epoch #28\tTrain Loss: 80.439\n",
      "Total testing loss is: 68.01948356628418\n"
     ]
    },
    {
     "data": {
      "application/vnd.jupyter.widget-view+json": {
       "model_id": "7e4bf988eb164f459417f52202cac509",
       "version_major": 2,
       "version_minor": 0
      },
      "text/plain": [
       "HBox(children=(IntProgress(value=0, description='Progress:', max=6, style=ProgressStyle(description_width='ini…"
      ]
     },
     "metadata": {},
     "output_type": "display_data"
    },
    {
     "name": "stdout",
     "output_type": "stream",
     "text": [
      "\n",
      "Epoch #29\tTrain Loss: 74.549\n",
      "Total testing loss is: 80.80332946777344\n"
     ]
    },
    {
     "data": {
      "application/vnd.jupyter.widget-view+json": {
       "model_id": "142092ccabca4ea6be22ca4e7d945ef3",
       "version_major": 2,
       "version_minor": 0
      },
      "text/plain": [
       "HBox(children=(IntProgress(value=0, description='Progress:', max=6, style=ProgressStyle(description_width='ini…"
      ]
     },
     "metadata": {},
     "output_type": "display_data"
    },
    {
     "name": "stdout",
     "output_type": "stream",
     "text": [
      "\n",
      "Epoch #30\tTrain Loss: 72.509\n",
      "Total testing loss is: 68.02120590209961\n"
     ]
    },
    {
     "data": {
      "application/vnd.jupyter.widget-view+json": {
       "model_id": "091dea9de0d0419c8c69fefa2e10625f",
       "version_major": 2,
       "version_minor": 0
      },
      "text/plain": [
       "HBox(children=(IntProgress(value=0, description='Progress:', max=6, style=ProgressStyle(description_width='ini…"
      ]
     },
     "metadata": {},
     "output_type": "display_data"
    },
    {
     "name": "stdout",
     "output_type": "stream",
     "text": [
      "\n",
      "Epoch #31\tTrain Loss: 70.033\n",
      "Total testing loss is: 66.8721981048584\n"
     ]
    },
    {
     "data": {
      "application/vnd.jupyter.widget-view+json": {
       "model_id": "b8b467b120d441f580f243a6ae30da4b",
       "version_major": 2,
       "version_minor": 0
      },
      "text/plain": [
       "HBox(children=(IntProgress(value=0, description='Progress:', max=6, style=ProgressStyle(description_width='ini…"
      ]
     },
     "metadata": {},
     "output_type": "display_data"
    },
    {
     "name": "stdout",
     "output_type": "stream",
     "text": [
      "\n",
      "Epoch #32\tTrain Loss: 70.495\n",
      "Total testing loss is: 75.55580139160156\n"
     ]
    },
    {
     "data": {
      "application/vnd.jupyter.widget-view+json": {
       "model_id": "6416f7bfa3c94a6984a28b53f5255bd8",
       "version_major": 2,
       "version_minor": 0
      },
      "text/plain": [
       "HBox(children=(IntProgress(value=0, description='Progress:', max=6, style=ProgressStyle(description_width='ini…"
      ]
     },
     "metadata": {},
     "output_type": "display_data"
    },
    {
     "name": "stdout",
     "output_type": "stream",
     "text": [
      "\n",
      "Epoch #33\tTrain Loss: 70.580\n",
      "Total testing loss is: 66.92286682128906\n"
     ]
    },
    {
     "data": {
      "application/vnd.jupyter.widget-view+json": {
       "model_id": "0457440e31a84d3b8fb2254d162ad337",
       "version_major": 2,
       "version_minor": 0
      },
      "text/plain": [
       "HBox(children=(IntProgress(value=0, description='Progress:', max=6, style=ProgressStyle(description_width='ini…"
      ]
     },
     "metadata": {},
     "output_type": "display_data"
    },
    {
     "name": "stdout",
     "output_type": "stream",
     "text": [
      "\n",
      "Epoch #34\tTrain Loss: 68.089\n",
      "Total testing loss is: 65.88185691833496\n"
     ]
    },
    {
     "data": {
      "application/vnd.jupyter.widget-view+json": {
       "model_id": "e208d5f4e48440be9056b6a723202540",
       "version_major": 2,
       "version_minor": 0
      },
      "text/plain": [
       "HBox(children=(IntProgress(value=0, description='Progress:', max=6, style=ProgressStyle(description_width='ini…"
      ]
     },
     "metadata": {},
     "output_type": "display_data"
    },
    {
     "name": "stdout",
     "output_type": "stream",
     "text": [
      "\n",
      "Epoch #35\tTrain Loss: 65.826\n",
      "Total testing loss is: 66.90669441223145\n"
     ]
    },
    {
     "data": {
      "application/vnd.jupyter.widget-view+json": {
       "model_id": "dbe760f530bb4ae087fe30ddadbf0a83",
       "version_major": 2,
       "version_minor": 0
      },
      "text/plain": [
       "HBox(children=(IntProgress(value=0, description='Progress:', max=6, style=ProgressStyle(description_width='ini…"
      ]
     },
     "metadata": {},
     "output_type": "display_data"
    },
    {
     "name": "stdout",
     "output_type": "stream",
     "text": [
      "\n",
      "Epoch #36\tTrain Loss: 64.831\n",
      "Total testing loss is: 56.71883201599121\n"
     ]
    },
    {
     "data": {
      "application/vnd.jupyter.widget-view+json": {
       "model_id": "999b577dc59343c9b0bb0944c0e24579",
       "version_major": 2,
       "version_minor": 0
      },
      "text/plain": [
       "HBox(children=(IntProgress(value=0, description='Progress:', max=6, style=ProgressStyle(description_width='ini…"
      ]
     },
     "metadata": {},
     "output_type": "display_data"
    },
    {
     "name": "stdout",
     "output_type": "stream",
     "text": [
      "\n",
      "Epoch #37\tTrain Loss: 64.809\n",
      "Total testing loss is: 59.10163497924805\n"
     ]
    },
    {
     "data": {
      "application/vnd.jupyter.widget-view+json": {
       "model_id": "8394da4cf9d540f39922713c8173baba",
       "version_major": 2,
       "version_minor": 0
      },
      "text/plain": [
       "HBox(children=(IntProgress(value=0, description='Progress:', max=6, style=ProgressStyle(description_width='ini…"
      ]
     },
     "metadata": {},
     "output_type": "display_data"
    },
    {
     "name": "stdout",
     "output_type": "stream",
     "text": [
      "\n",
      "Epoch #38\tTrain Loss: 68.642\n",
      "Total testing loss is: 54.12222099304199\n"
     ]
    },
    {
     "data": {
      "application/vnd.jupyter.widget-view+json": {
       "model_id": "b5086d99b9404c37b5d6e1fcdf45d11b",
       "version_major": 2,
       "version_minor": 0
      },
      "text/plain": [
       "HBox(children=(IntProgress(value=0, description='Progress:', max=6, style=ProgressStyle(description_width='ini…"
      ]
     },
     "metadata": {},
     "output_type": "display_data"
    },
    {
     "name": "stdout",
     "output_type": "stream",
     "text": [
      "\n",
      "Epoch #39\tTrain Loss: 64.274\n",
      "Total testing loss is: 55.40235710144043\n"
     ]
    },
    {
     "data": {
      "application/vnd.jupyter.widget-view+json": {
       "model_id": "522cfd1b213f42ae8678995d077adeba",
       "version_major": 2,
       "version_minor": 0
      },
      "text/plain": [
       "HBox(children=(IntProgress(value=0, description='Progress:', max=6, style=ProgressStyle(description_width='ini…"
      ]
     },
     "metadata": {},
     "output_type": "display_data"
    },
    {
     "name": "stdout",
     "output_type": "stream",
     "text": [
      "\n",
      "Epoch #40\tTrain Loss: 62.015\n",
      "Total testing loss is: 50.02823448181152\n"
     ]
    },
    {
     "data": {
      "application/vnd.jupyter.widget-view+json": {
       "model_id": "11022c9cd4c54a3e8407f0657afec7ff",
       "version_major": 2,
       "version_minor": 0
      },
      "text/plain": [
       "HBox(children=(IntProgress(value=0, description='Progress:', max=6, style=ProgressStyle(description_width='ini…"
      ]
     },
     "metadata": {},
     "output_type": "display_data"
    },
    {
     "name": "stdout",
     "output_type": "stream",
     "text": [
      "\n",
      "Epoch #41\tTrain Loss: 57.660\n",
      "Total testing loss is: 43.92824649810791\n"
     ]
    },
    {
     "data": {
      "application/vnd.jupyter.widget-view+json": {
       "model_id": "65f6a4a56ed34147812c6ec8177594e5",
       "version_major": 2,
       "version_minor": 0
      },
      "text/plain": [
       "HBox(children=(IntProgress(value=0, description='Progress:', max=6, style=ProgressStyle(description_width='ini…"
      ]
     },
     "metadata": {},
     "output_type": "display_data"
    },
    {
     "name": "stdout",
     "output_type": "stream",
     "text": [
      "\n",
      "Epoch #42\tTrain Loss: 59.388\n",
      "Total testing loss is: 50.26883125305176\n"
     ]
    },
    {
     "data": {
      "application/vnd.jupyter.widget-view+json": {
       "model_id": "be23debb48af4e37906ad8af13f84523",
       "version_major": 2,
       "version_minor": 0
      },
      "text/plain": [
       "HBox(children=(IntProgress(value=0, description='Progress:', max=6, style=ProgressStyle(description_width='ini…"
      ]
     },
     "metadata": {},
     "output_type": "display_data"
    },
    {
     "name": "stdout",
     "output_type": "stream",
     "text": [
      "\n",
      "Epoch #43\tTrain Loss: 55.806\n",
      "Total testing loss is: 47.72796630859375\n"
     ]
    },
    {
     "data": {
      "application/vnd.jupyter.widget-view+json": {
       "model_id": "0e24e916a6da4c12b2771bbbe99e6480",
       "version_major": 2,
       "version_minor": 0
      },
      "text/plain": [
       "HBox(children=(IntProgress(value=0, description='Progress:', max=6, style=ProgressStyle(description_width='ini…"
      ]
     },
     "metadata": {},
     "output_type": "display_data"
    },
    {
     "name": "stdout",
     "output_type": "stream",
     "text": [
      "\n",
      "Epoch #44\tTrain Loss: 58.348\n",
      "Total testing loss is: 54.38881874084473\n"
     ]
    },
    {
     "data": {
      "application/vnd.jupyter.widget-view+json": {
       "model_id": "70efd58e40cd4b3eb289b23acd3c51a3",
       "version_major": 2,
       "version_minor": 0
      },
      "text/plain": [
       "HBox(children=(IntProgress(value=0, description='Progress:', max=6, style=ProgressStyle(description_width='ini…"
      ]
     },
     "metadata": {},
     "output_type": "display_data"
    },
    {
     "name": "stdout",
     "output_type": "stream",
     "text": [
      "\n",
      "Epoch #45\tTrain Loss: 64.055\n",
      "Total testing loss is: 48.427303314208984\n"
     ]
    },
    {
     "data": {
      "application/vnd.jupyter.widget-view+json": {
       "model_id": "c7c951ab232841d68b2665b5c38a50ec",
       "version_major": 2,
       "version_minor": 0
      },
      "text/plain": [
       "HBox(children=(IntProgress(value=0, description='Progress:', max=6, style=ProgressStyle(description_width='ini…"
      ]
     },
     "metadata": {},
     "output_type": "display_data"
    },
    {
     "name": "stdout",
     "output_type": "stream",
     "text": [
      "\n",
      "Epoch #46\tTrain Loss: 52.208\n",
      "Total testing loss is: 54.08432197570801\n"
     ]
    },
    {
     "data": {
      "application/vnd.jupyter.widget-view+json": {
       "model_id": "9c7528ffd7874a8ba854da9841ccf436",
       "version_major": 2,
       "version_minor": 0
      },
      "text/plain": [
       "HBox(children=(IntProgress(value=0, description='Progress:', max=6, style=ProgressStyle(description_width='ini…"
      ]
     },
     "metadata": {},
     "output_type": "display_data"
    },
    {
     "name": "stdout",
     "output_type": "stream",
     "text": [
      "\n",
      "Epoch #47\tTrain Loss: 58.128\n",
      "Total testing loss is: 51.59466361999512\n"
     ]
    },
    {
     "data": {
      "application/vnd.jupyter.widget-view+json": {
       "model_id": "e2be4c634d1c47db86ef00dd4c5fb8f5",
       "version_major": 2,
       "version_minor": 0
      },
      "text/plain": [
       "HBox(children=(IntProgress(value=0, description='Progress:', max=6, style=ProgressStyle(description_width='ini…"
      ]
     },
     "metadata": {},
     "output_type": "display_data"
    },
    {
     "name": "stdout",
     "output_type": "stream",
     "text": [
      "\n",
      "Epoch #48\tTrain Loss: 51.141\n",
      "Total testing loss is: 36.80395793914795\n"
     ]
    },
    {
     "data": {
      "application/vnd.jupyter.widget-view+json": {
       "model_id": "5066d64489ce4f16bea37af9688f000d",
       "version_major": 2,
       "version_minor": 0
      },
      "text/plain": [
       "HBox(children=(IntProgress(value=0, description='Progress:', max=6, style=ProgressStyle(description_width='ini…"
      ]
     },
     "metadata": {},
     "output_type": "display_data"
    },
    {
     "name": "stdout",
     "output_type": "stream",
     "text": [
      "\n",
      "Epoch #49\tTrain Loss: 50.248\n",
      "Total testing loss is: 40.6252384185791\n"
     ]
    },
    {
     "data": {
      "application/vnd.jupyter.widget-view+json": {
       "model_id": "05072b34b038447fb525f75a2be8a035",
       "version_major": 2,
       "version_minor": 0
      },
      "text/plain": [
       "HBox(children=(IntProgress(value=0, description='Progress:', max=6, style=ProgressStyle(description_width='ini…"
      ]
     },
     "metadata": {},
     "output_type": "display_data"
    },
    {
     "name": "stdout",
     "output_type": "stream",
     "text": [
      "\n",
      "Epoch #50\tTrain Loss: 47.606\n",
      "Total testing loss is: 30.425909996032715\n"
     ]
    },
    {
     "data": {
      "application/vnd.jupyter.widget-view+json": {
       "model_id": "15df72b0b718485098101583997f72ea",
       "version_major": 2,
       "version_minor": 0
      },
      "text/plain": [
       "HBox(children=(IntProgress(value=0, description='Progress:', max=6, style=ProgressStyle(description_width='ini…"
      ]
     },
     "metadata": {},
     "output_type": "display_data"
    },
    {
     "name": "stdout",
     "output_type": "stream",
     "text": [
      "\n",
      "Epoch #51\tTrain Loss: 51.218\n",
      "Total testing loss is: 49.57460594177246\n"
     ]
    },
    {
     "data": {
      "application/vnd.jupyter.widget-view+json": {
       "model_id": "ebf7700680664bb787e6ffd86abb7fa0",
       "version_major": 2,
       "version_minor": 0
      },
      "text/plain": [
       "HBox(children=(IntProgress(value=0, description='Progress:', max=6, style=ProgressStyle(description_width='ini…"
      ]
     },
     "metadata": {},
     "output_type": "display_data"
    },
    {
     "name": "stdout",
     "output_type": "stream",
     "text": [
      "\n",
      "Epoch #52\tTrain Loss: 59.682\n",
      "Total testing loss is: 31.02025604248047\n"
     ]
    },
    {
     "data": {
      "application/vnd.jupyter.widget-view+json": {
       "model_id": "6de39fe8e811407eb56fdeebc3fe639b",
       "version_major": 2,
       "version_minor": 0
      },
      "text/plain": [
       "HBox(children=(IntProgress(value=0, description='Progress:', max=6, style=ProgressStyle(description_width='ini…"
      ]
     },
     "metadata": {},
     "output_type": "display_data"
    },
    {
     "name": "stdout",
     "output_type": "stream",
     "text": [
      "\n",
      "Epoch #53\tTrain Loss: 50.130\n",
      "Total testing loss is: 29.163331031799316\n"
     ]
    },
    {
     "data": {
      "application/vnd.jupyter.widget-view+json": {
       "model_id": "4c8eb63c87ac408793c255195ff326d5",
       "version_major": 2,
       "version_minor": 0
      },
      "text/plain": [
       "HBox(children=(IntProgress(value=0, description='Progress:', max=6, style=ProgressStyle(description_width='ini…"
      ]
     },
     "metadata": {},
     "output_type": "display_data"
    },
    {
     "name": "stdout",
     "output_type": "stream",
     "text": [
      "\n",
      "Epoch #54\tTrain Loss: 44.606\n",
      "Total testing loss is: 50.53289985656738\n"
     ]
    },
    {
     "data": {
      "application/vnd.jupyter.widget-view+json": {
       "model_id": "7eaff433fc0d4116a1a6f9b68e6292eb",
       "version_major": 2,
       "version_minor": 0
      },
      "text/plain": [
       "HBox(children=(IntProgress(value=0, description='Progress:', max=6, style=ProgressStyle(description_width='ini…"
      ]
     },
     "metadata": {},
     "output_type": "display_data"
    },
    {
     "name": "stdout",
     "output_type": "stream",
     "text": [
      "\n",
      "Epoch #55\tTrain Loss: 50.734\n",
      "Total testing loss is: 78.10733032226562\n"
     ]
    },
    {
     "data": {
      "application/vnd.jupyter.widget-view+json": {
       "model_id": "45a3636b0d8b41b987940518f8fb51a7",
       "version_major": 2,
       "version_minor": 0
      },
      "text/plain": [
       "HBox(children=(IntProgress(value=0, description='Progress:', max=6, style=ProgressStyle(description_width='ini…"
      ]
     },
     "metadata": {},
     "output_type": "display_data"
    },
    {
     "name": "stdout",
     "output_type": "stream",
     "text": [
      "\n",
      "Epoch #56\tTrain Loss: 51.929\n",
      "Total testing loss is: 42.56583786010742\n"
     ]
    },
    {
     "data": {
      "application/vnd.jupyter.widget-view+json": {
       "model_id": "97f5e9d395b8445b8c16d48f67bbb39c",
       "version_major": 2,
       "version_minor": 0
      },
      "text/plain": [
       "HBox(children=(IntProgress(value=0, description='Progress:', max=6, style=ProgressStyle(description_width='ini…"
      ]
     },
     "metadata": {},
     "output_type": "display_data"
    },
    {
     "name": "stdout",
     "output_type": "stream",
     "text": [
      "\n",
      "Epoch #57\tTrain Loss: 44.981\n",
      "Total testing loss is: 26.636435508728027\n"
     ]
    },
    {
     "data": {
      "application/vnd.jupyter.widget-view+json": {
       "model_id": "0b0a10e3f1ff4feb9ffbcc1e9b13f410",
       "version_major": 2,
       "version_minor": 0
      },
      "text/plain": [
       "HBox(children=(IntProgress(value=0, description='Progress:', max=6, style=ProgressStyle(description_width='ini…"
      ]
     },
     "metadata": {},
     "output_type": "display_data"
    },
    {
     "name": "stdout",
     "output_type": "stream",
     "text": [
      "\n",
      "Epoch #58\tTrain Loss: 35.070\n",
      "Total testing loss is: 25.265433311462402\n"
     ]
    },
    {
     "data": {
      "application/vnd.jupyter.widget-view+json": {
       "model_id": "4e38656d9c9e49a3b8cf2da444d4447c",
       "version_major": 2,
       "version_minor": 0
      },
      "text/plain": [
       "HBox(children=(IntProgress(value=0, description='Progress:', max=6, style=ProgressStyle(description_width='ini…"
      ]
     },
     "metadata": {},
     "output_type": "display_data"
    },
    {
     "name": "stdout",
     "output_type": "stream",
     "text": [
      "\n",
      "Epoch #59\tTrain Loss: 37.243\n",
      "Total testing loss is: 36.013898849487305\n"
     ]
    },
    {
     "data": {
      "application/vnd.jupyter.widget-view+json": {
       "model_id": "1d42cf12adf8471c9d2e74662ef4bcab",
       "version_major": 2,
       "version_minor": 0
      },
      "text/plain": [
       "HBox(children=(IntProgress(value=0, description='Progress:', max=6, style=ProgressStyle(description_width='ini…"
      ]
     },
     "metadata": {},
     "output_type": "display_data"
    },
    {
     "name": "stdout",
     "output_type": "stream",
     "text": [
      "\n",
      "Epoch #60\tTrain Loss: 46.234\n",
      "Total testing loss is: 22.560288429260254\n"
     ]
    },
    {
     "data": {
      "application/vnd.jupyter.widget-view+json": {
       "model_id": "412c07fc02284249892dccc352fb9de2",
       "version_major": 2,
       "version_minor": 0
      },
      "text/plain": [
       "HBox(children=(IntProgress(value=0, description='Progress:', max=6, style=ProgressStyle(description_width='ini…"
      ]
     },
     "metadata": {},
     "output_type": "display_data"
    },
    {
     "name": "stdout",
     "output_type": "stream",
     "text": [
      "\n",
      "Epoch #61\tTrain Loss: 39.015\n",
      "Total testing loss is: 18.94016170501709\n"
     ]
    },
    {
     "data": {
      "application/vnd.jupyter.widget-view+json": {
       "model_id": "a2bc52127c0c42459d30b16236acd75a",
       "version_major": 2,
       "version_minor": 0
      },
      "text/plain": [
       "HBox(children=(IntProgress(value=0, description='Progress:', max=6, style=ProgressStyle(description_width='ini…"
      ]
     },
     "metadata": {},
     "output_type": "display_data"
    },
    {
     "name": "stdout",
     "output_type": "stream",
     "text": [
      "\n",
      "Epoch #62\tTrain Loss: 36.162\n",
      "Total testing loss is: 18.957134246826172\n"
     ]
    },
    {
     "data": {
      "application/vnd.jupyter.widget-view+json": {
       "model_id": "aed2e355b56c4912b166be4b2473293a",
       "version_major": 2,
       "version_minor": 0
      },
      "text/plain": [
       "HBox(children=(IntProgress(value=0, description='Progress:', max=6, style=ProgressStyle(description_width='ini…"
      ]
     },
     "metadata": {},
     "output_type": "display_data"
    },
    {
     "name": "stdout",
     "output_type": "stream",
     "text": [
      "\n",
      "Epoch #63\tTrain Loss: 37.637\n",
      "Total testing loss is: 34.42059516906738\n"
     ]
    },
    {
     "data": {
      "application/vnd.jupyter.widget-view+json": {
       "model_id": "5731c4ed19fd4b7b81a11dd2b8ff47e9",
       "version_major": 2,
       "version_minor": 0
      },
      "text/plain": [
       "HBox(children=(IntProgress(value=0, description='Progress:', max=6, style=ProgressStyle(description_width='ini…"
      ]
     },
     "metadata": {},
     "output_type": "display_data"
    },
    {
     "name": "stdout",
     "output_type": "stream",
     "text": [
      "\n",
      "Epoch #64\tTrain Loss: 32.314\n",
      "Total testing loss is: 24.39774227142334\n"
     ]
    },
    {
     "data": {
      "application/vnd.jupyter.widget-view+json": {
       "model_id": "9e3fbb23247e4f1ba1ccfd7c263c7ec4",
       "version_major": 2,
       "version_minor": 0
      },
      "text/plain": [
       "HBox(children=(IntProgress(value=0, description='Progress:', max=6, style=ProgressStyle(description_width='ini…"
      ]
     },
     "metadata": {},
     "output_type": "display_data"
    },
    {
     "name": "stdout",
     "output_type": "stream",
     "text": [
      "\n",
      "Epoch #65\tTrain Loss: 30.188\n",
      "Total testing loss is: 25.54328441619873\n"
     ]
    },
    {
     "data": {
      "application/vnd.jupyter.widget-view+json": {
       "model_id": "fd92d5a796e246de8e1cb63144c24656",
       "version_major": 2,
       "version_minor": 0
      },
      "text/plain": [
       "HBox(children=(IntProgress(value=0, description='Progress:', max=6, style=ProgressStyle(description_width='ini…"
      ]
     },
     "metadata": {},
     "output_type": "display_data"
    },
    {
     "name": "stdout",
     "output_type": "stream",
     "text": [
      "\n",
      "Epoch #66\tTrain Loss: 28.299\n",
      "Total testing loss is: 19.648972511291504\n"
     ]
    },
    {
     "data": {
      "application/vnd.jupyter.widget-view+json": {
       "model_id": "99c11f3a008944c9a3d5788d746ac3b5",
       "version_major": 2,
       "version_minor": 0
      },
      "text/plain": [
       "HBox(children=(IntProgress(value=0, description='Progress:', max=6, style=ProgressStyle(description_width='ini…"
      ]
     },
     "metadata": {},
     "output_type": "display_data"
    },
    {
     "name": "stdout",
     "output_type": "stream",
     "text": [
      "\n",
      "Epoch #67\tTrain Loss: 26.590\n",
      "Total testing loss is: 24.45563793182373\n"
     ]
    },
    {
     "data": {
      "application/vnd.jupyter.widget-view+json": {
       "model_id": "168befe37e49470f872b21f8a98376f0",
       "version_major": 2,
       "version_minor": 0
      },
      "text/plain": [
       "HBox(children=(IntProgress(value=0, description='Progress:', max=6, style=ProgressStyle(description_width='ini…"
      ]
     },
     "metadata": {},
     "output_type": "display_data"
    },
    {
     "name": "stdout",
     "output_type": "stream",
     "text": [
      "\n",
      "Epoch #68\tTrain Loss: 25.870\n",
      "Total testing loss is: 22.20273208618164\n"
     ]
    },
    {
     "data": {
      "application/vnd.jupyter.widget-view+json": {
       "model_id": "447e2111667a481db5c229f757c4ebb1",
       "version_major": 2,
       "version_minor": 0
      },
      "text/plain": [
       "HBox(children=(IntProgress(value=0, description='Progress:', max=6, style=ProgressStyle(description_width='ini…"
      ]
     },
     "metadata": {},
     "output_type": "display_data"
    },
    {
     "name": "stdout",
     "output_type": "stream",
     "text": [
      "\n",
      "Epoch #69\tTrain Loss: 27.000\n",
      "Total testing loss is: 18.050549030303955\n"
     ]
    },
    {
     "data": {
      "application/vnd.jupyter.widget-view+json": {
       "model_id": "a354ad0c266d495ea55c2270af9b61f5",
       "version_major": 2,
       "version_minor": 0
      },
      "text/plain": [
       "HBox(children=(IntProgress(value=0, description='Progress:', max=6, style=ProgressStyle(description_width='ini…"
      ]
     },
     "metadata": {},
     "output_type": "display_data"
    },
    {
     "name": "stdout",
     "output_type": "stream",
     "text": [
      "\n",
      "Epoch #70\tTrain Loss: 31.942\n",
      "Total testing loss is: 15.945837020874023\n"
     ]
    },
    {
     "data": {
      "application/vnd.jupyter.widget-view+json": {
       "model_id": "f09f1ef4a5be4ec49d48e112702f231c",
       "version_major": 2,
       "version_minor": 0
      },
      "text/plain": [
       "HBox(children=(IntProgress(value=0, description='Progress:', max=6, style=ProgressStyle(description_width='ini…"
      ]
     },
     "metadata": {},
     "output_type": "display_data"
    },
    {
     "name": "stdout",
     "output_type": "stream",
     "text": [
      "\n",
      "Epoch #71\tTrain Loss: 36.063\n",
      "Total testing loss is: 21.161850929260254\n"
     ]
    },
    {
     "data": {
      "application/vnd.jupyter.widget-view+json": {
       "model_id": "733a482b1778427d963c4d0769e25d10",
       "version_major": 2,
       "version_minor": 0
      },
      "text/plain": [
       "HBox(children=(IntProgress(value=0, description='Progress:', max=6, style=ProgressStyle(description_width='ini…"
      ]
     },
     "metadata": {},
     "output_type": "display_data"
    },
    {
     "name": "stdout",
     "output_type": "stream",
     "text": [
      "\n",
      "Epoch #72\tTrain Loss: 31.243\n",
      "Total testing loss is: 16.02397060394287\n"
     ]
    },
    {
     "data": {
      "application/vnd.jupyter.widget-view+json": {
       "model_id": "dcb617e8a56c440b8aa999d20edf0f6f",
       "version_major": 2,
       "version_minor": 0
      },
      "text/plain": [
       "HBox(children=(IntProgress(value=0, description='Progress:', max=6, style=ProgressStyle(description_width='ini…"
      ]
     },
     "metadata": {},
     "output_type": "display_data"
    },
    {
     "name": "stdout",
     "output_type": "stream",
     "text": [
      "\n",
      "Epoch #73\tTrain Loss: 25.542\n",
      "Total testing loss is: 15.373791217803955\n"
     ]
    },
    {
     "data": {
      "application/vnd.jupyter.widget-view+json": {
       "model_id": "58325baae7584f778744d49896ccc2c7",
       "version_major": 2,
       "version_minor": 0
      },
      "text/plain": [
       "HBox(children=(IntProgress(value=0, description='Progress:', max=6, style=ProgressStyle(description_width='ini…"
      ]
     },
     "metadata": {},
     "output_type": "display_data"
    },
    {
     "name": "stdout",
     "output_type": "stream",
     "text": [
      "\n",
      "Epoch #74\tTrain Loss: 27.528\n",
      "Total testing loss is: 15.756668090820312\n"
     ]
    },
    {
     "data": {
      "application/vnd.jupyter.widget-view+json": {
       "model_id": "dc879999d40b48ac8ebda3176bf31c0b",
       "version_major": 2,
       "version_minor": 0
      },
      "text/plain": [
       "HBox(children=(IntProgress(value=0, description='Progress:', max=6, style=ProgressStyle(description_width='ini…"
      ]
     },
     "metadata": {},
     "output_type": "display_data"
    },
    {
     "name": "stdout",
     "output_type": "stream",
     "text": [
      "\n",
      "Epoch #75\tTrain Loss: 25.719\n",
      "Total testing loss is: 16.432310104370117\n"
     ]
    },
    {
     "data": {
      "application/vnd.jupyter.widget-view+json": {
       "model_id": "4f4eca52b16743cf96d3aa6964078e45",
       "version_major": 2,
       "version_minor": 0
      },
      "text/plain": [
       "HBox(children=(IntProgress(value=0, description='Progress:', max=6, style=ProgressStyle(description_width='ini…"
      ]
     },
     "metadata": {},
     "output_type": "display_data"
    },
    {
     "name": "stdout",
     "output_type": "stream",
     "text": [
      "\n",
      "Epoch #76\tTrain Loss: 24.470\n",
      "Total testing loss is: 22.946829795837402\n"
     ]
    },
    {
     "data": {
      "application/vnd.jupyter.widget-view+json": {
       "model_id": "583661dea84942b58e33c3eb2c6238bf",
       "version_major": 2,
       "version_minor": 0
      },
      "text/plain": [
       "HBox(children=(IntProgress(value=0, description='Progress:', max=6, style=ProgressStyle(description_width='ini…"
      ]
     },
     "metadata": {},
     "output_type": "display_data"
    },
    {
     "name": "stdout",
     "output_type": "stream",
     "text": [
      "\n",
      "Epoch #77\tTrain Loss: 26.587\n",
      "Total testing loss is: 15.505367279052734\n"
     ]
    },
    {
     "data": {
      "application/vnd.jupyter.widget-view+json": {
       "model_id": "ab52b00f78124b70a02d201ec8062822",
       "version_major": 2,
       "version_minor": 0
      },
      "text/plain": [
       "HBox(children=(IntProgress(value=0, description='Progress:', max=6, style=ProgressStyle(description_width='ini…"
      ]
     },
     "metadata": {},
     "output_type": "display_data"
    },
    {
     "name": "stdout",
     "output_type": "stream",
     "text": [
      "\n",
      "Epoch #78\tTrain Loss: 26.274\n",
      "Total testing loss is: 20.581278800964355\n"
     ]
    },
    {
     "data": {
      "application/vnd.jupyter.widget-view+json": {
       "model_id": "6953f89b161d4bc0aeeb5f6da6fb7814",
       "version_major": 2,
       "version_minor": 0
      },
      "text/plain": [
       "HBox(children=(IntProgress(value=0, description='Progress:', max=6, style=ProgressStyle(description_width='ini…"
      ]
     },
     "metadata": {},
     "output_type": "display_data"
    },
    {
     "name": "stdout",
     "output_type": "stream",
     "text": [
      "\n",
      "Epoch #79\tTrain Loss: 26.917\n",
      "Total testing loss is: 19.826366424560547\n"
     ]
    },
    {
     "data": {
      "application/vnd.jupyter.widget-view+json": {
       "model_id": "b6837fa8fdc24e3584543d5527777136",
       "version_major": 2,
       "version_minor": 0
      },
      "text/plain": [
       "HBox(children=(IntProgress(value=0, description='Progress:', max=6, style=ProgressStyle(description_width='ini…"
      ]
     },
     "metadata": {},
     "output_type": "display_data"
    },
    {
     "name": "stdout",
     "output_type": "stream",
     "text": [
      "\n",
      "Epoch #80\tTrain Loss: 26.348\n",
      "Total testing loss is: 18.322579383850098\n"
     ]
    },
    {
     "data": {
      "application/vnd.jupyter.widget-view+json": {
       "model_id": "de81023b2d6149f8babe75719036a149",
       "version_major": 2,
       "version_minor": 0
      },
      "text/plain": [
       "HBox(children=(IntProgress(value=0, description='Progress:', max=6, style=ProgressStyle(description_width='ini…"
      ]
     },
     "metadata": {},
     "output_type": "display_data"
    },
    {
     "name": "stdout",
     "output_type": "stream",
     "text": [
      "\n",
      "Epoch #81\tTrain Loss: 26.951\n",
      "Total testing loss is: 14.070729494094849\n"
     ]
    },
    {
     "data": {
      "application/vnd.jupyter.widget-view+json": {
       "model_id": "e99f886a0d7d4e01829e4465cd8f7e7b",
       "version_major": 2,
       "version_minor": 0
      },
      "text/plain": [
       "HBox(children=(IntProgress(value=0, description='Progress:', max=6, style=ProgressStyle(description_width='ini…"
      ]
     },
     "metadata": {},
     "output_type": "display_data"
    },
    {
     "name": "stdout",
     "output_type": "stream",
     "text": [
      "\n",
      "Epoch #82\tTrain Loss: 26.844\n",
      "Total testing loss is: 18.98857021331787\n"
     ]
    },
    {
     "data": {
      "application/vnd.jupyter.widget-view+json": {
       "model_id": "3555dee15d154d7cb07057324a7bc0ce",
       "version_major": 2,
       "version_minor": 0
      },
      "text/plain": [
       "HBox(children=(IntProgress(value=0, description='Progress:', max=6, style=ProgressStyle(description_width='ini…"
      ]
     },
     "metadata": {},
     "output_type": "display_data"
    },
    {
     "name": "stdout",
     "output_type": "stream",
     "text": [
      "\n",
      "Epoch #83\tTrain Loss: 28.340\n",
      "Total testing loss is: 15.230469703674316\n"
     ]
    },
    {
     "data": {
      "application/vnd.jupyter.widget-view+json": {
       "model_id": "27ccb5f18bac48ebb574e79a6a99075c",
       "version_major": 2,
       "version_minor": 0
      },
      "text/plain": [
       "HBox(children=(IntProgress(value=0, description='Progress:', max=6, style=ProgressStyle(description_width='ini…"
      ]
     },
     "metadata": {},
     "output_type": "display_data"
    },
    {
     "name": "stdout",
     "output_type": "stream",
     "text": [
      "\n",
      "Epoch #84\tTrain Loss: 25.786\n",
      "Total testing loss is: 15.196392059326172\n"
     ]
    },
    {
     "data": {
      "application/vnd.jupyter.widget-view+json": {
       "model_id": "7f9b3688bb00434eb4c9ff58b8221b0f",
       "version_major": 2,
       "version_minor": 0
      },
      "text/plain": [
       "HBox(children=(IntProgress(value=0, description='Progress:', max=6, style=ProgressStyle(description_width='ini…"
      ]
     },
     "metadata": {},
     "output_type": "display_data"
    },
    {
     "name": "stdout",
     "output_type": "stream",
     "text": [
      "\n",
      "Epoch #85\tTrain Loss: 27.675\n",
      "Total testing loss is: 20.253599166870117\n"
     ]
    },
    {
     "data": {
      "application/vnd.jupyter.widget-view+json": {
       "model_id": "b0d2c706cb74407cbf0d71a4175f2773",
       "version_major": 2,
       "version_minor": 0
      },
      "text/plain": [
       "HBox(children=(IntProgress(value=0, description='Progress:', max=6, style=ProgressStyle(description_width='ini…"
      ]
     },
     "metadata": {},
     "output_type": "display_data"
    },
    {
     "name": "stdout",
     "output_type": "stream",
     "text": [
      "\n",
      "Epoch #86\tTrain Loss: 25.950\n",
      "Total testing loss is: 23.326775550842285\n"
     ]
    },
    {
     "data": {
      "application/vnd.jupyter.widget-view+json": {
       "model_id": "cc105f472fbf4cdcb12628020f0dfe0b",
       "version_major": 2,
       "version_minor": 0
      },
      "text/plain": [
       "HBox(children=(IntProgress(value=0, description='Progress:', max=6, style=ProgressStyle(description_width='ini…"
      ]
     },
     "metadata": {},
     "output_type": "display_data"
    },
    {
     "name": "stdout",
     "output_type": "stream",
     "text": [
      "\n",
      "Epoch #87\tTrain Loss: 25.331\n",
      "Total testing loss is: 17.606013774871826\n"
     ]
    },
    {
     "data": {
      "application/vnd.jupyter.widget-view+json": {
       "model_id": "90871a8e522d4c33b3ea4ce5867bc552",
       "version_major": 2,
       "version_minor": 0
      },
      "text/plain": [
       "HBox(children=(IntProgress(value=0, description='Progress:', max=6, style=ProgressStyle(description_width='ini…"
      ]
     },
     "metadata": {},
     "output_type": "display_data"
    },
    {
     "name": "stdout",
     "output_type": "stream",
     "text": [
      "\n",
      "Epoch #88\tTrain Loss: 25.835\n",
      "Total testing loss is: 16.6996111869812\n"
     ]
    },
    {
     "data": {
      "application/vnd.jupyter.widget-view+json": {
       "model_id": "c62670af833248909c4f1d83957b5439",
       "version_major": 2,
       "version_minor": 0
      },
      "text/plain": [
       "HBox(children=(IntProgress(value=0, description='Progress:', max=6, style=ProgressStyle(description_width='ini…"
      ]
     },
     "metadata": {},
     "output_type": "display_data"
    },
    {
     "name": "stdout",
     "output_type": "stream",
     "text": [
      "\n",
      "Epoch #89\tTrain Loss: 26.275\n",
      "Total testing loss is: 17.742548942565918\n"
     ]
    },
    {
     "data": {
      "application/vnd.jupyter.widget-view+json": {
       "model_id": "c9ea1cf990464c539981ea4ccfb5d4ca",
       "version_major": 2,
       "version_minor": 0
      },
      "text/plain": [
       "HBox(children=(IntProgress(value=0, description='Progress:', max=6, style=ProgressStyle(description_width='ini…"
      ]
     },
     "metadata": {},
     "output_type": "display_data"
    },
    {
     "name": "stdout",
     "output_type": "stream",
     "text": [
      "\n",
      "Epoch #90\tTrain Loss: 25.683\n",
      "Total testing loss is: 16.744746685028076\n"
     ]
    },
    {
     "data": {
      "application/vnd.jupyter.widget-view+json": {
       "model_id": "b58d2475f43344adba944442e33c3ddf",
       "version_major": 2,
       "version_minor": 0
      },
      "text/plain": [
       "HBox(children=(IntProgress(value=0, description='Progress:', max=6, style=ProgressStyle(description_width='ini…"
      ]
     },
     "metadata": {},
     "output_type": "display_data"
    },
    {
     "name": "stdout",
     "output_type": "stream",
     "text": [
      "\n",
      "Epoch #91\tTrain Loss: 25.444\n",
      "Total testing loss is: 20.855467796325684\n"
     ]
    },
    {
     "data": {
      "application/vnd.jupyter.widget-view+json": {
       "model_id": "90bd7d83b13d41e884d8f7aff410fbaa",
       "version_major": 2,
       "version_minor": 0
      },
      "text/plain": [
       "HBox(children=(IntProgress(value=0, description='Progress:', max=6, style=ProgressStyle(description_width='ini…"
      ]
     },
     "metadata": {},
     "output_type": "display_data"
    },
    {
     "name": "stdout",
     "output_type": "stream",
     "text": [
      "\n",
      "Epoch #92\tTrain Loss: 26.245\n",
      "Total testing loss is: 22.027859687805176\n"
     ]
    },
    {
     "data": {
      "application/vnd.jupyter.widget-view+json": {
       "model_id": "b3d8326111794dabb3232f5270a0c1c1",
       "version_major": 2,
       "version_minor": 0
      },
      "text/plain": [
       "HBox(children=(IntProgress(value=0, description='Progress:', max=6, style=ProgressStyle(description_width='ini…"
      ]
     },
     "metadata": {},
     "output_type": "display_data"
    },
    {
     "name": "stdout",
     "output_type": "stream",
     "text": [
      "\n",
      "Epoch #93\tTrain Loss: 26.477\n",
      "Total testing loss is: 20.793725967407227\n"
     ]
    },
    {
     "data": {
      "application/vnd.jupyter.widget-view+json": {
       "model_id": "07091cef46094335be5a0e065f916929",
       "version_major": 2,
       "version_minor": 0
      },
      "text/plain": [
       "HBox(children=(IntProgress(value=0, description='Progress:', max=6, style=ProgressStyle(description_width='ini…"
      ]
     },
     "metadata": {},
     "output_type": "display_data"
    },
    {
     "name": "stdout",
     "output_type": "stream",
     "text": [
      "\n",
      "Epoch #94\tTrain Loss: 26.250\n",
      "Total testing loss is: 15.907047748565674\n"
     ]
    },
    {
     "data": {
      "application/vnd.jupyter.widget-view+json": {
       "model_id": "0e4eb87cfa3846c1b330e339c7b69c3f",
       "version_major": 2,
       "version_minor": 0
      },
      "text/plain": [
       "HBox(children=(IntProgress(value=0, description='Progress:', max=6, style=ProgressStyle(description_width='ini…"
      ]
     },
     "metadata": {},
     "output_type": "display_data"
    },
    {
     "name": "stdout",
     "output_type": "stream",
     "text": [
      "\n",
      "Epoch #95\tTrain Loss: 28.386\n",
      "Total testing loss is: 16.423201084136963\n"
     ]
    },
    {
     "data": {
      "application/vnd.jupyter.widget-view+json": {
       "model_id": "16d2ca8bd4a8482796543e52a4665a75",
       "version_major": 2,
       "version_minor": 0
      },
      "text/plain": [
       "HBox(children=(IntProgress(value=0, description='Progress:', max=6, style=ProgressStyle(description_width='ini…"
      ]
     },
     "metadata": {},
     "output_type": "display_data"
    },
    {
     "name": "stdout",
     "output_type": "stream",
     "text": [
      "\n",
      "Epoch #96\tTrain Loss: 26.271\n",
      "Total testing loss is: 16.38532066345215\n"
     ]
    },
    {
     "data": {
      "application/vnd.jupyter.widget-view+json": {
       "model_id": "2c58dd485b25436bb9c49789c7f7f90c",
       "version_major": 2,
       "version_minor": 0
      },
      "text/plain": [
       "HBox(children=(IntProgress(value=0, description='Progress:', max=6, style=ProgressStyle(description_width='ini…"
      ]
     },
     "metadata": {},
     "output_type": "display_data"
    },
    {
     "name": "stdout",
     "output_type": "stream",
     "text": [
      "\n",
      "Epoch #97\tTrain Loss: 25.610\n",
      "Total testing loss is: 15.960204124450684\n"
     ]
    },
    {
     "data": {
      "application/vnd.jupyter.widget-view+json": {
       "model_id": "df972ecd2ef94866855c47d5980e6922",
       "version_major": 2,
       "version_minor": 0
      },
      "text/plain": [
       "HBox(children=(IntProgress(value=0, description='Progress:', max=6, style=ProgressStyle(description_width='ini…"
      ]
     },
     "metadata": {},
     "output_type": "display_data"
    },
    {
     "name": "stdout",
     "output_type": "stream",
     "text": [
      "\n",
      "Epoch #98\tTrain Loss: 27.570\n",
      "Total testing loss is: 18.958552360534668\n"
     ]
    },
    {
     "data": {
      "application/vnd.jupyter.widget-view+json": {
       "model_id": "8716299478b0439986f957de839b43c1",
       "version_major": 2,
       "version_minor": 0
      },
      "text/plain": [
       "HBox(children=(IntProgress(value=0, description='Progress:', max=6, style=ProgressStyle(description_width='ini…"
      ]
     },
     "metadata": {},
     "output_type": "display_data"
    },
    {
     "name": "stdout",
     "output_type": "stream",
     "text": [
      "\n",
      "Epoch #99\tTrain Loss: 29.576\n",
      "Total testing loss is: 24.35873031616211\n"
     ]
    },
    {
     "data": {
      "application/vnd.jupyter.widget-view+json": {
       "model_id": "97f2478ad141469591e99330837c73dd",
       "version_major": 2,
       "version_minor": 0
      },
      "text/plain": [
       "HBox(children=(IntProgress(value=0, description='Progress:', max=6, style=ProgressStyle(description_width='ini…"
      ]
     },
     "metadata": {},
     "output_type": "display_data"
    },
    {
     "name": "stdout",
     "output_type": "stream",
     "text": [
      "\n",
      "Epoch #100\tTrain Loss: 28.717\n",
      "Total testing loss is: 30.840493202209473\n"
     ]
    }
   ],
   "source": [
    "#empty list to hold loss per epoch\n",
    "final_train_epoch_losses = []\n",
    "final_test_epoch_losses = []\n",
    "\n",
    "\n",
    "for epoch in range(num_epochs):\n",
    "\n",
    "    # Train the ensemble network of the branch\n",
    "    final_train_epoch_loss = train_final_branch_one_epoch(model = model,\n",
    "                                   training_data_set = final_training_data_set,\n",
    "                                   criterion = final_criterion,\n",
    "                                   optimizer = final_optimizer)\n",
    "    \n",
    "    final_train_epoch_losses.append(final_train_epoch_loss)\n",
    "    \n",
    "    final_test_epoch_loss = eval_final_branch(model = model,\n",
    "                                 testing_data_set = final_testing_data_set,\n",
    "                                 criterion = final_criterion,\n",
    "                                 optimizer = final_optimizer)\n",
    "    \n",
    "    final_test_epoch_losses.append(final_test_epoch_loss)"
   ]
  },
  {
   "cell_type": "code",
   "execution_count": 10,
   "metadata": {},
   "outputs": [
    {
     "data": {
      "image/png": "[encoded data removed]",
      "text/plain": [
       "<Figure size 576x432 with 1 Axes>"
      ]
     },
     "metadata": {
      "needs_background": "light"
     },
     "output_type": "display_data"
    }
   ],
   "source": [
    "fig, ax = plt.subplots(figsize = (8,6))\n",
    "\n",
    "epochs = np.arange(1, (num_epochs+1), 1)\n",
    "\n",
    "plt.plot(epochs, train_epoch_losses, c = 'k', label = 'training error')\n",
    "plt.plot(epochs, test_epoch_losses, c = 'r', label = 'testing error')\n",
    "plt.legend(loc = 'upper right')\n",
    "plt.show()"
   ]
  },
  {
   "cell_type": "code",
   "execution_count": null,
   "metadata": {},
   "outputs": [],
   "source": []
  }
 ],
 "metadata": {
  "kernelspec": {
   "display_name": "Python 3",
   "language": "python",
   "name": "python3"
  },
  "language_info": {
   "codemirror_mode": {
    "name": "ipython",
    "version": 3
   },
   "file_extension": ".py",
   "mimetype": "text/x-python",
   "name": "python",
   "nbconvert_exporter": "python",
   "pygments_lexer": "ipython3",
   "version": "3.7.6"
  }
 },
 "nbformat": 4,
 "nbformat_minor": 4
}
