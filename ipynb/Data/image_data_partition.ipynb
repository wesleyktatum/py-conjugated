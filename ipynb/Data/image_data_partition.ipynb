{
 "cells": [
  {
   "cell_type": "code",
   "execution_count": 1,
   "metadata": {},
   "outputs": [],
   "source": [
    "import os\n",
    "import sys\n",
    "import numpy as np\n",
    "import pandas as pd\n",
    "import matplotlib.pyplot as plt\n",
    "%matplotlib inline\n"
   ]
  },
  {
   "cell_type": "code",
   "execution_count": 2,
   "metadata": {},
   "outputs": [
    {
     "name": "stdout",
     "output_type": "stream",
     "text": [
      "109\n"
     ]
    }
   ],
   "source": [
    "im_dir = '/Volumes/Tatum_SSD-1/Grad_school/m2py/Morphology_labels/OPV_morph_maps/3_component/'\n",
    "\n",
    "im_files = os.listdir(im_dir)\n",
    "print(len(im_files))\n",
    "# print(im_files)"
   ]
  },
  {
   "cell_type": "markdown",
   "metadata": {},
   "source": [
    "Below is a set of 30 substrates and devices that comprise the test set for the tabular data. We want to make sure that the test set for this network is also comprised of samples from this set, to make sure that all models are comparable. Because there is so little image data, we will only select 10 devices for our test set"
   ]
  },
  {
   "cell_type": "code",
   "execution_count": 33,
   "metadata": {},
   "outputs": [
    {
     "data": {
      "text/html": [
       "<div>\n",
       "<style scoped>\n",
       "    .dataframe tbody tr th:only-of-type {\n",
       "        vertical-align: middle;\n",
       "    }\n",
       "\n",
       "    .dataframe tbody tr th {\n",
       "        vertical-align: top;\n",
       "    }\n",
       "\n",
       "    .dataframe thead th {\n",
       "        text-align: right;\n",
       "    }\n",
       "</style>\n",
       "<table border=\"1\" class=\"dataframe\">\n",
       "  <thead>\n",
       "    <tr style=\"text-align: right;\">\n",
       "      <th></th>\n",
       "      <th>temp</th>\n",
       "      <th>time</th>\n",
       "      <th>sub</th>\n",
       "      <th>dev</th>\n",
       "    </tr>\n",
       "  </thead>\n",
       "  <tbody>\n",
       "    <tr>\n",
       "      <th>0</th>\n",
       "      <td>125</td>\n",
       "      <td>5</td>\n",
       "      <td>1</td>\n",
       "      <td>6</td>\n",
       "    </tr>\n",
       "    <tr>\n",
       "      <th>1</th>\n",
       "      <td>175</td>\n",
       "      <td>15</td>\n",
       "      <td>4</td>\n",
       "      <td>3</td>\n",
       "    </tr>\n",
       "    <tr>\n",
       "      <th>2</th>\n",
       "      <td>125</td>\n",
       "      <td>5</td>\n",
       "      <td>1</td>\n",
       "      <td>6</td>\n",
       "    </tr>\n",
       "    <tr>\n",
       "      <th>3</th>\n",
       "      <td>100</td>\n",
       "      <td>15</td>\n",
       "      <td>4</td>\n",
       "      <td>2</td>\n",
       "    </tr>\n",
       "    <tr>\n",
       "      <th>4</th>\n",
       "      <td>100</td>\n",
       "      <td>5</td>\n",
       "      <td>1</td>\n",
       "      <td>3</td>\n",
       "    </tr>\n",
       "  </tbody>\n",
       "</table>\n",
       "</div>"
      ],
      "text/plain": [
       "   temp  time  sub  dev\n",
       "0   125     5    1    6\n",
       "1   175    15    4    3\n",
       "2   125     5    1    6\n",
       "3   100    15    4    2\n",
       "4   100     5    1    3"
      ]
     },
     "execution_count": 33,
     "metadata": {},
     "output_type": "execute_result"
    }
   ],
   "source": [
    "test_set_key_dict = {\n",
    "    0 : {'temp' : 125, 'time' : 5, 'sub' : 1, 'dev' : 6},\n",
    "    1 : {'temp' : 175, 'time' : 15, 'sub' : 4, 'dev' : 3},\n",
    "    2 : {'temp' : 125, 'time' : 5, 'sub' : 1, 'dev' : 6},\n",
    "    3 : {'temp' : 100, 'time' : 15, 'sub' : 4, 'dev' : 2},\n",
    "    4 : {'temp' : 100, 'time' : 5, 'sub' : 1, 'dev' : 3},\n",
    "    5 : {'temp' : 100, 'time' : 15, 'sub' : 4, 'dev' : 7},\n",
    "    6 : {'temp' : 125, 'time' : 15, 'sub' : 4, 'dev' : 6},\n",
    "    7 : {'temp' : 125, 'time' : 5, 'sub' : 1, 'dev' : 3},\n",
    "    8 : {'temp' : 125, 'time' : 15, 'sub' : 4, 'dev' : 6},\n",
    "    9 : {'temp' : 125, 'time' : 30, 'sub' : 8, 'dev' : 3},\n",
    "    10 : {'temp' : 100, 'time' : 15, 'sub' : 4, 'dev' : 2},\n",
    "    11 : {'temp' : 125, 'time' : 30, 'sub' : 8, 'dev' : 3},\n",
    "    12 : {'temp' : 100, 'time' : 5, 'sub' : 1, 'dev' : 4},\n",
    "    13 : {'temp' : 100, 'time' : 15, 'sub' : 4, 'dev' : 4},\n",
    "#     14 : {'temp' : 125, 'time' : 15, 'sub' : 4, 'dev' : 1},\n",
    "#     15 : {'temp' : 100, 'time' : 15, 'sub' : 4, 'dev' : 2},\n",
    "# #     16 : {'temp' : 125, 'time' : 5, 'sub' : 1, 'dev' : 2},\n",
    "# #     17 : {'temp' : 150, 'time' : 15, 'sub' : 4, 'dev' : 1},\n",
    "# #     18 : {'temp' : 125, 'time' : 15, 'sub' : 4, 'dev' : 7},\n",
    "# #     19 : {'temp' : 150, 'time' : 15, 'sub' : 4, 'dev' : 1},\n",
    "# #     20 : {'temp' : 100, 'time' : 5, 'sub' : 1, 'dev' : 4},\n",
    "# #     21 : {'temp' : 175, 'time' : 15, 'sub' : 4, 'dev' : 7},\n",
    "# #     22 : {'temp' : 100, 'time' : 30, 'sub' : 7, 'dev' : 2},\n",
    "#     23 : {'temp' : 100, 'time' : 15, 'sub' : 4, 'dev' : 4},\n",
    "#     24 : {'temp' : 125, 'time' : 15, 'sub' : 4, 'dev' : 2},\n",
    "#     25 : {'temp' : 100, 'time' : 5, 'sub' : 1, 'dev' : 4},\n",
    "#     26 : {'temp' : 125, 'time' : 5, 'sub' : 1, 'dev' : 6},\n",
    "#     27 : {'temp' : 100, 'time' : 30, 'sub' : 7, 'dev' : 4},\n",
    "#     28 : {'temp' : 125, 'time' : 5, 'sub' : 1, 'dev' : 3},\n",
    "#     29 : {'temp' : 100, 'time' : 5, 'sub' : 1, 'dev' : 4},\n",
    "}\n",
    "\n",
    "test_set_key_df = pd.DataFrame.from_dict(test_set_key_dict, orient = 'index')\n",
    "test_set_key_df.head()"
   ]
  },
  {
   "cell_type": "code",
   "execution_count": 34,
   "metadata": {},
   "outputs": [
    {
     "name": "stdout",
     "output_type": "stream",
     "text": [
      "36\n",
      "36\n"
     ]
    }
   ],
   "source": [
    "im_dict = {}\n",
    "label_dict = {}\n",
    "idx = 0\n",
    "for i, fl in enumerate(im_files[1:]):\n",
    "#     print(i)\n",
    "    \n",
    "    if fl[-1] == 'v':\n",
    "        pass\n",
    "    \n",
    "    elif fl[-1] == 'y':\n",
    "        anl_temp = 0\n",
    "        anl_time = 0\n",
    "        sub = 0\n",
    "        dev = 0\n",
    "\n",
    "        if i < len(im_files):\n",
    "            seg1_dir = im_dir+im_files[i]\n",
    "            seg2_dir = im_dir+im_files[i+1]\n",
    "            \n",
    "            if im_files[i][:-6] == im_files[i+1][:-6]:\n",
    "#                 print(f'saving file: #{i}: {fl}')\n",
    "                \n",
    "                seg1_dir = im_dir+im_files[i]\n",
    "                seg2_dir = im_dir+im_files[i+1]\n",
    "                \n",
    "                seg1 = np.load(seg1_dir)\n",
    "                seg2 = np.load(seg2_dir)\n",
    "                \n",
    "                sample = np.stack([seg1, seg2], axis = -1)\n",
    "                sample = sample.astype(np.double)\n",
    "                \n",
    "                im_dict[idx] = sample\n",
    "                idx += 1\n",
    "\n",
    "                if 'NOANNEAL' in fl:\n",
    "                    #time = temp = 0\n",
    "                    anl_temp = 0\n",
    "                    anl_time = 0\n",
    "                    \n",
    "                    #extract sub and dev\n",
    "                    s_idx = fl.index('S')+1\n",
    "                    d_idx = fl.index('D')+1\n",
    "                    \n",
    "                    sub = fl[s_idx]\n",
    "                    dev = fl[d_idx]\n",
    "\n",
    "                else:\n",
    "                    #extract temp, time, sub, dev from filename\n",
    "                    temp_stop_indx = fl.index('C')\n",
    "                    anl_temp = int(fl[:temp_stop_indx])\n",
    "\n",
    "                    time_start_indx = temp_stop_indx+2\n",
    "                    time_stop_indx = fl.index('m')\n",
    "                    time_stop_indx = time_stop_indx\n",
    "                    anl_time = fl[time_start_indx:time_stop_indx]\n",
    "                    anl_time = int(anl_time)\n",
    "                    \n",
    "                    if 'postexam' in fl:\n",
    "                        sub = 4\n",
    "                        dev = 6\n",
    "                        \n",
    "                    else:\n",
    "                        s_idx = fl.index('b')+1\n",
    "                        d_idx = fl.index('v')+1\n",
    "                    \n",
    "                        sub = fl[s_idx]\n",
    "                        dev = fl[d_idx]\n",
    "                    \n",
    "                #assign entry identifiers to label key\n",
    "                label_dict[idx] = {'Anneal_time' : int(anl_time), 'Anneal_temp' : int(anl_temp),\n",
    "                                 'Substrate' : int(sub), 'Device': int(dev)}\n",
    "                \n",
    "\n",
    "            else:\n",
    "                pass\n",
    "        else:\n",
    "#             print('end of loop')\n",
    "            pass\n",
    "    else:\n",
    "#         print('Non-.npy file')\n",
    "        pass\n",
    "label_df = pd.DataFrame.from_dict(label_dict, orient = 'index')\n",
    "print(len(label_dict))\n",
    "print(len(im_dict))"
   ]
  },
  {
   "cell_type": "code",
   "execution_count": 35,
   "metadata": {},
   "outputs": [
    {
     "name": "stdout",
     "output_type": "stream",
     "text": [
      "10\n",
      "[1, 2, 3, 7, 8, 12, 15, 18, 19, 26]\n"
     ]
    }
   ],
   "source": [
    "test_sample_idxs = []\n",
    "\n",
    "#find the indexes of the rows (samples) that match our test set's identifiers\n",
    "for i, row in test_set_key_df.iterrows():\n",
    "#     print(row)\n",
    "#     print(row[0])\n",
    "    #query for sample labels that = test set identifiers\n",
    "    time_matches = label_df[label_df['Anneal_temp'] == row[0]]\n",
    "#     print(len(time_matches))\n",
    "    temp_matches = time_matches.query('Anneal_time == @row[1]')\n",
    "#     print(len(temp_matches))\n",
    "    sub_matches = temp_matches.query('Substrate == @row[2]')\n",
    "#     print(len(sub_matches))\n",
    "    matches = sub_matches.query('Device == @row[3]')\n",
    "#     print(len(matches))\n",
    "\n",
    "#     matches = label_df.query('Anneal_time == @row[0]' &\n",
    "#                                   'Anneal_temp == @row[1]' &\n",
    "#                                   'Substrate == @row[2]' &\n",
    "#                                   'Device == @row[3]')\n",
    "    \n",
    "    if len(matches) > 0:\n",
    "        #append index of match to test_sample_idxs\n",
    "#         print(f\"matches: {matches}\")\n",
    "#         print(f\"number of matches: {len(matches)}\")\n",
    "        match_idxs = matches.index[:].tolist()\n",
    "        test_sample_idxs.append(match_idxs[0])\n",
    "    \n",
    "    else:\n",
    "        pass\n",
    "\n",
    "    \n",
    "test_sample_idxs.sort()\n",
    "test_sample_idxs = list(set(test_sample_idxs))\n",
    "print(len(test_sample_idxs))\n",
    "print(test_sample_idxs)"
   ]
  },
  {
   "cell_type": "code",
   "execution_count": 36,
   "metadata": {},
   "outputs": [
    {
     "data": {
      "text/plain": [
       "<matplotlib.image.AxesImage at 0x11b062250>"
      ]
     },
     "execution_count": 36,
     "metadata": {},
     "output_type": "execute_result"
    },
    {
     "data": {
      "image/png": "[encoded data removed]",
      "text/plain": [
       "<Figure size 432x288 with 1 Axes>"
      ]
     },
     "metadata": {
      "needs_background": "light"
     },
     "output_type": "display_data"
    }
   ],
   "source": [
    "#using the test set indexes, extract our test set from the population\n",
    "\n",
    "test_data = {}\n",
    "\n",
    "for i, idx in enumerate(test_sample_idxs):\n",
    "    test_data[i] = im_dict[idx]\n",
    "\n",
    "plt.imshow(test_data[0][:,:,0])"
   ]
  },
  {
   "cell_type": "code",
   "execution_count": 37,
   "metadata": {},
   "outputs": [
    {
     "name": "stdout",
     "output_type": "stream",
     "text": [
      "26\n",
      "10\n",
      "10\n",
      "36\n"
     ]
    }
   ],
   "source": [
    "train_data = {}\n",
    "\n",
    "for key, value in im_dict.items():\n",
    "    if key in test_sample_idxs:\n",
    "        pass\n",
    "    else:\n",
    "        train_data[key] = value\n",
    "        \n",
    "print(len(train_data))\n",
    "print(len(test_sample_idxs))\n",
    "print(len(test_data))\n",
    "print(len(im_dict))"
   ]
  },
  {
   "cell_type": "code",
   "execution_count": 52,
   "metadata": {},
   "outputs": [
    {
     "name": "stdout",
     "output_type": "stream",
     "text": [
      "36\n",
      "['100C_15min_Sub4_Dev2', '100C_15min_Sub4_Dev4', '100C_15min_Sub4_Dev7', '100C_30min_Sub7_Dev2', '100C_30min_Sub7_Dev4', '100C_30min_Sub7_Dev7', '100C_5min_Sub1_Dev3', '100C_5min_Sub1_Dev4_90D', '100C_5min_Sub1_Dev4', '125C_15min_Sub4_Dev1', '125C_15min_Sub4_Dev2', '125C_15min_Sub4_Dev6', '125C_15min_Sub4_Dev7', '125C_15min_Sub4_postexam', '125C_30min_Sub8_Dev3', '125C_30min_Sub8_postexam', '125C_5min_Sub1_Dev2', '125C_5min_Sub1_Dev3', '125C_5min_Sub1_Dev6', '125C_5min_Sub1_postexam', '150C_15min_Sub4_Dev1', '150C_15min_Sub4_Dev7', '150C_30min_Sub7_Dev3', '150C_5min_Sub1_Dev7', '175C_15min_Sub4_Dev2', '175C_15min_Sub4_Dev3', '175C_15min_Sub4_Dev7', '175C_30min_Sub8_Dev6', '175C_30min_Sub8_Dev8', '175C_5min_Sub2_Dev1', '175C_5min_Sub2_Dev3', '175C_5min_Sub2_postexam', '2018-06-29_P3HT-PCBM_NOANNEAL_S1_D1', '2018-06-29_P3HT-PCBM_NOANNEAL_S1_D4', '2018-06-29_P3HT-PCBM_NOANNEAL_S2_D1', '2018-06-29_P3HT-PCBM_NOANNEAL_S3_D1']\n"
     ]
    }
   ],
   "source": [
    "sample_fls = []\n",
    "\n",
    "for fl in im_files:\n",
    "    if fl[-1] == 'e':\n",
    "        pass\n",
    "    elif fl[-1] == 'v':\n",
    "        pass\n",
    "    elif fl[-5] == '2':\n",
    "        pass\n",
    "    else:\n",
    "        sample_fls.append(fl[:-9])\n",
    "        \n",
    "print(len(sample_fls))\n",
    "print(sample_fls)"
   ]
  },
  {
   "cell_type": "markdown",
   "metadata": {},
   "source": [
    "Now that we have two dictionaries with our image data, and a sample key to link each index to a filename, we can now save them into separate folders to build pytorch dataloaders directly in the notebook"
   ]
  },
  {
   "cell_type": "code",
   "execution_count": 53,
   "metadata": {},
   "outputs": [],
   "source": [
    "for key, val in train_data.items():\n",
    "    np.save('/Volumes/Tatum_SSD-1/Grad_school/m2py/Morphology_labels/OPV_morph_maps/train_set/'+sample_fls[key]+'_labels.npy', val)\n",
    "    \n",
    "for key, val in test_data.items():\n",
    "    np.save('/Volumes/Tatum_SSD-1/Grad_school/m2py/Morphology_labels/OPV_morph_maps/test_set/'+sample_fls[key]+'_labels.npy', val)"
   ]
  },
  {
   "cell_type": "code",
   "execution_count": null,
   "metadata": {},
   "outputs": [],
   "source": []
  }
 ],
 "metadata": {
  "kernelspec": {
   "display_name": "Python 3",
   "language": "python",
   "name": "python3"
  },
  "language_info": {
   "codemirror_mode": {
    "name": "ipython",
    "version": 3
   },
   "file_extension": ".py",
   "mimetype": "text/x-python",
   "name": "python",
   "nbconvert_exporter": "python",
   "pygments_lexer": "ipython3",
   "version": "3.7.6"
  }
 },
 "nbformat": 4,
 "nbformat_minor": 4
}
