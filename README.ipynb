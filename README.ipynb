{
 "cells": [
  {
   "cell_type": "markdown",
   "metadata": {},
   "source": [
    "# py-conjugated\n",
    "Machine learning on semiconducting polymer datasets\n",
    "\n",
    "## Background\n",
    "\n",
    "This repository compares the results of different regression techniques on two different datasets:\n",
    "\n",
    "- Organic Photovoltaic (OPV) devices with the structure Glass/ITO/ZnO/P3HT:PC${60}$BM/$MoO_{3}$/$Ag$. JV curves were taken to determine power conversion efficiency (PCE), open-circuit voltage (V$_oc}$), short-circuit current (J$_{sc}$), and fill factor (FF). Force-distance mapping AFM images were taken of the active layer after JV-curve extraction.\n",
    "\n",
    "- Organic Field-Effect Transistor (OFET) devices with top-contact, bottom-gate architecture. P3HT was spin-coated onto $Si/SiO_{2}$ wafers passivated with octadecyl trichlorosilane (OTS). $Au$ source and drain electrodes, and $In$ ground contact. In the linear regime, the transfer curve was used to determine the hole-mobility ($\\mu_{lin}$), on-off ratio ($on / off$), threshold voltage ($V_{th}$), and the reliability coefficient ($r$). Force-distance mapping AFM images were taken of the active layer between the source and drain electrodes after transfer curve extraction.\n",
    "\n",
    "The force-distance maps were segmented and labeled using the [m2py python library](https://github.com/ponl/m2py). These label maps were used to extract morphological information and, along with the device performance data, is shown to be predictive of device performance. This repository first compares the predictive capabilities of traditional regression methods:\n",
    "\n",
    "- LASSO\n",
    "- Random Forrest\n",
    "- Support Vector Machines\n",
    "- Naive Bayes\n",
    "\n",
    "In order to incorporate the image-likee morphological data, rather than simply summaries thereof, Neural Networks are trained on the images and m2py labels, as well as the tabular device data. Different combinations of data and training schedules are used to evaluate the importance of morphological labels in supervised models' predictions of device performance."
   ]
  },
  {
   "cell_type": "code",
   "execution_count": null,
   "metadata": {},
   "outputs": [],
   "source": []
  }
 ],
 "metadata": {
  "kernelspec": {
   "display_name": "Python 3",
   "language": "python",
   "name": "python3"
  },
  "language_info": {
   "codemirror_mode": {
    "name": "ipython",
    "version": 3
   },
   "file_extension": ".py",
   "mimetype": "text/x-python",
   "name": "python",
   "nbconvert_exporter": "python",
   "pygments_lexer": "ipython3",
   "version": "3.7.6"
  }
 },
 "nbformat": 4,
 "nbformat_minor": 4
}
